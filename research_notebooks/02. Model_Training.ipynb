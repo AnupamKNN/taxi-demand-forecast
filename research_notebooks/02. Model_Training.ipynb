{
 "cells": [
  {
   "cell_type": "markdown",
   "id": "75e0c9e8",
   "metadata": {},
   "source": [
    "# Feature Engineering and Model Training"
   ]
  },
  {
   "cell_type": "markdown",
   "id": "816a84c1",
   "metadata": {},
   "source": [
    "## Feature Engineering"
   ]
  },
  {
   "cell_type": "markdown",
   "id": "c4202f2f",
   "metadata": {},
   "source": [
    "### Import Libraries and Load Data"
   ]
  },
  {
   "cell_type": "code",
   "execution_count": 1,
   "id": "5f012566",
   "metadata": {},
   "outputs": [],
   "source": [
    "import pandas as pd\n",
    "import numpy as np"
   ]
  },
  {
   "cell_type": "code",
   "execution_count": 2,
   "id": "ab4554cd",
   "metadata": {},
   "outputs": [],
   "source": [
    "df = pd.read_csv('Data/nyc_taxi_weather_agg_jan_mar_2025_cleaned.csv')"
   ]
  },
  {
   "cell_type": "code",
   "execution_count": 3,
   "id": "4380543c",
   "metadata": {},
   "outputs": [
    {
     "data": {
      "text/html": [
       "<div>\n",
       "<style scoped>\n",
       "    .dataframe tbody tr th:only-of-type {\n",
       "        vertical-align: middle;\n",
       "    }\n",
       "\n",
       "    .dataframe tbody tr th {\n",
       "        vertical-align: top;\n",
       "    }\n",
       "\n",
       "    .dataframe thead th {\n",
       "        text-align: right;\n",
       "    }\n",
       "</style>\n",
       "<table border=\"1\" class=\"dataframe\">\n",
       "  <thead>\n",
       "    <tr style=\"text-align: right;\">\n",
       "      <th></th>\n",
       "      <th>pickup_hour</th>\n",
       "      <th>PULocationID</th>\n",
       "      <th>ride_count</th>\n",
       "      <th>temperature_2m</th>\n",
       "      <th>precipitation</th>\n",
       "      <th>weathercode</th>\n",
       "      <th>hour</th>\n",
       "      <th>day_of_week</th>\n",
       "      <th>month</th>\n",
       "      <th>is_weekend</th>\n",
       "    </tr>\n",
       "  </thead>\n",
       "  <tbody>\n",
       "    <tr>\n",
       "      <th>0</th>\n",
       "      <td>2025-01-01 00:00:00-05:00</td>\n",
       "      <td>4</td>\n",
       "      <td>28</td>\n",
       "      <td>7.9</td>\n",
       "      <td>3.4</td>\n",
       "      <td>63</td>\n",
       "      <td>0</td>\n",
       "      <td>2</td>\n",
       "      <td>1</td>\n",
       "      <td>0</td>\n",
       "    </tr>\n",
       "    <tr>\n",
       "      <th>1</th>\n",
       "      <td>2025-01-01 00:00:00-05:00</td>\n",
       "      <td>7</td>\n",
       "      <td>12</td>\n",
       "      <td>7.9</td>\n",
       "      <td>3.4</td>\n",
       "      <td>63</td>\n",
       "      <td>0</td>\n",
       "      <td>2</td>\n",
       "      <td>1</td>\n",
       "      <td>0</td>\n",
       "    </tr>\n",
       "    <tr>\n",
       "      <th>2</th>\n",
       "      <td>2025-01-01 00:00:00-05:00</td>\n",
       "      <td>9</td>\n",
       "      <td>1</td>\n",
       "      <td>7.9</td>\n",
       "      <td>3.4</td>\n",
       "      <td>63</td>\n",
       "      <td>0</td>\n",
       "      <td>2</td>\n",
       "      <td>1</td>\n",
       "      <td>0</td>\n",
       "    </tr>\n",
       "    <tr>\n",
       "      <th>3</th>\n",
       "      <td>2025-01-01 00:00:00-05:00</td>\n",
       "      <td>10</td>\n",
       "      <td>1</td>\n",
       "      <td>7.9</td>\n",
       "      <td>3.4</td>\n",
       "      <td>63</td>\n",
       "      <td>0</td>\n",
       "      <td>2</td>\n",
       "      <td>1</td>\n",
       "      <td>0</td>\n",
       "    </tr>\n",
       "    <tr>\n",
       "      <th>4</th>\n",
       "      <td>2025-01-01 00:00:00-05:00</td>\n",
       "      <td>12</td>\n",
       "      <td>1</td>\n",
       "      <td>7.9</td>\n",
       "      <td>3.4</td>\n",
       "      <td>63</td>\n",
       "      <td>0</td>\n",
       "      <td>2</td>\n",
       "      <td>1</td>\n",
       "      <td>0</td>\n",
       "    </tr>\n",
       "  </tbody>\n",
       "</table>\n",
       "</div>"
      ],
      "text/plain": [
       "                 pickup_hour  PULocationID  ride_count  temperature_2m  \\\n",
       "0  2025-01-01 00:00:00-05:00             4          28             7.9   \n",
       "1  2025-01-01 00:00:00-05:00             7          12             7.9   \n",
       "2  2025-01-01 00:00:00-05:00             9           1             7.9   \n",
       "3  2025-01-01 00:00:00-05:00            10           1             7.9   \n",
       "4  2025-01-01 00:00:00-05:00            12           1             7.9   \n",
       "\n",
       "   precipitation  weathercode  hour  day_of_week  month  is_weekend  \n",
       "0            3.4           63     0            2      1           0  \n",
       "1            3.4           63     0            2      1           0  \n",
       "2            3.4           63     0            2      1           0  \n",
       "3            3.4           63     0            2      1           0  \n",
       "4            3.4           63     0            2      1           0  "
      ]
     },
     "execution_count": 3,
     "metadata": {},
     "output_type": "execute_result"
    }
   ],
   "source": [
    "df.head()"
   ]
  },
  {
   "cell_type": "markdown",
   "id": "5ecacfb5",
   "metadata": {},
   "source": [
    "### Let us Add Holiday Flags"
   ]
  },
  {
   "cell_type": "code",
   "execution_count": 4,
   "id": "5615f5f2",
   "metadata": {},
   "outputs": [
    {
     "name": "stdout",
     "output_type": "stream",
     "text": [
      "<class 'pandas.core.series.Series'>\n",
      "RangeIndex: 322091 entries, 0 to 322090\n",
      "Series name: pickup_hour\n",
      "Non-Null Count   Dtype \n",
      "--------------   ----- \n",
      "322091 non-null  object\n",
      "dtypes: object(1)\n",
      "memory usage: 2.5+ MB\n"
     ]
    }
   ],
   "source": [
    "df['pickup_hour'].info()"
   ]
  },
  {
   "cell_type": "code",
   "execution_count": 6,
   "id": "a23c1b7a",
   "metadata": {},
   "outputs": [],
   "source": [
    "import holidays\n",
    "\n",
    "us_holidays = holidays.US()\n",
    "df['pickup_hour'] = pd.to_datetime(df['pickup_hour'], errors='coerce')\n",
    "df['date'] = df['pickup_hour'].dt.date\n",
    "df['is_holiday'] = df['date'].isin(us_holidays).astype(int)"
   ]
  },
  {
   "cell_type": "markdown",
   "id": "5df0ff46",
   "metadata": {},
   "source": [
    "### Now, let us generate Lag Features"
   ]
  },
  {
   "cell_type": "code",
   "execution_count": 7,
   "id": "e9f79e0a",
   "metadata": {},
   "outputs": [],
   "source": [
    "df = df.sort_values(['PULocationID', 'pickup_hour'])\n",
    "\n",
    "df['ride_count_lag_1'] = df.groupby('PULocationID')['ride_count'].shift(1)\n",
    "df['ride_count_lag_24'] = df.groupby('PULocationID')['ride_count'].shift(24)\n",
    "df['ride_count_lag_168'] = df.groupby('PULocationID')['ride_count'].shift(168)"
   ]
  },
  {
   "cell_type": "markdown",
   "id": "9c17dd71",
   "metadata": {},
   "source": [
    "### Let us create Rolling Statistics"
   ]
  },
  {
   "cell_type": "code",
   "execution_count": 8,
   "id": "5d22debe",
   "metadata": {},
   "outputs": [],
   "source": [
    "df['ride_count_roll_mean_3'] = df.groupby('PULocationID')['ride_count'].transform(lambda x: x.shift(1).rolling(window = 3).mean())\n",
    "df['ride_count_roll_std_3'] = df.groupby('PULocationID')['ride_count'].transform(lambda x: x.shift(1).rolling(window = 3).std())"
   ]
  },
  {
   "cell_type": "markdown",
   "id": "aeab731b",
   "metadata": {},
   "source": [
    "### Weather Feature Processing\n",
    "\n",
    "let us create binary precipitation flag (rain/no rain):"
   ]
  },
  {
   "cell_type": "code",
   "execution_count": 9,
   "id": "bd92f2d9",
   "metadata": {},
   "outputs": [],
   "source": [
    "df['is_rain'] = (df['precipitation'] > 0).astype(int)"
   ]
  },
  {
   "cell_type": "markdown",
   "id": "2eb9cc11",
   "metadata": {},
   "source": [
    "### Handle Missing Values"
   ]
  },
  {
   "cell_type": "code",
   "execution_count": 10,
   "id": "ccfd4fa6",
   "metadata": {},
   "outputs": [
    {
     "name": "stderr",
     "output_type": "stream",
     "text": [
      "/tmp/ipykernel_23549/4231983114.py:1: FutureWarning: Setting an item of incompatible dtype is deprecated and will raise an error in a future version of pandas. Value '0' has dtype incompatible with datetime64[ns, UTC-05:00], please explicitly cast to a compatible dtype first.\n",
      "  df.fillna(0, inplace=True)\n"
     ]
    }
   ],
   "source": [
    "df.fillna(0, inplace=True)"
   ]
  },
  {
   "cell_type": "markdown",
   "id": "e4018611",
   "metadata": {},
   "source": [
    "### Prepare Categorical Features for Embeddings"
   ]
  },
  {
   "cell_type": "code",
   "execution_count": 11,
   "id": "8ae9eb41",
   "metadata": {},
   "outputs": [
    {
     "name": "stdout",
     "output_type": "stream",
     "text": [
      "<class 'pandas.core.frame.DataFrame'>\n",
      "Index: 322091 entries, 1061 to 322090\n",
      "Data columns (total 18 columns):\n",
      " #   Column                  Non-Null Count   Dtype  \n",
      "---  ------                  --------------   -----  \n",
      " 0   pickup_hour             322091 non-null  object \n",
      " 1   PULocationID            322091 non-null  int64  \n",
      " 2   ride_count              322091 non-null  int64  \n",
      " 3   temperature_2m          322091 non-null  float64\n",
      " 4   precipitation           322091 non-null  float64\n",
      " 5   weathercode             322091 non-null  int64  \n",
      " 6   hour                    322091 non-null  int64  \n",
      " 7   day_of_week             322091 non-null  int64  \n",
      " 8   month                   322091 non-null  int64  \n",
      " 9   is_weekend              322091 non-null  int64  \n",
      " 10  date                    322091 non-null  object \n",
      " 11  is_holiday              322091 non-null  int64  \n",
      " 12  ride_count_lag_1        322091 non-null  float64\n",
      " 13  ride_count_lag_24       322091 non-null  float64\n",
      " 14  ride_count_lag_168      322091 non-null  float64\n",
      " 15  ride_count_roll_mean_3  322091 non-null  float64\n",
      " 16  ride_count_roll_std_3   322091 non-null  float64\n",
      " 17  is_rain                 322091 non-null  int64  \n",
      "dtypes: float64(7), int64(9), object(2)\n",
      "memory usage: 46.7+ MB\n"
     ]
    }
   ],
   "source": [
    "df.info()"
   ]
  },
  {
   "cell_type": "markdown",
   "id": "cb819ca2",
   "metadata": {},
   "source": [
    "#### Recommended Next Steps Before Label Encoding:"
   ]
  },
  {
   "cell_type": "markdown",
   "id": "9e745b97",
   "metadata": {},
   "source": [
    "##### 1. Convert pickup_hour to datetime with timezone awareness (important for any time-based operations):"
   ]
  },
  {
   "cell_type": "code",
   "execution_count": 12,
   "id": "8619cc2c",
   "metadata": {},
   "outputs": [],
   "source": [
    "df['pickup_hour'] = pd.to_datetime(df['pickup_hour'], utc=True).dt.tz_convert('America/New_York')"
   ]
  },
  {
   "cell_type": "markdown",
   "id": "49fd6029",
   "metadata": {},
   "source": [
    "##### 2. Convert date to datetime (date without time):"
   ]
  },
  {
   "cell_type": "code",
   "execution_count": 13,
   "id": "dfd09512",
   "metadata": {},
   "outputs": [],
   "source": [
    "df['date'] = pd.to_datetime(df['date'])"
   ]
  },
  {
   "cell_type": "markdown",
   "id": "b51e4366",
   "metadata": {},
   "source": [
    "#### Let us OrdinalEncode the Categorical features, scale the Numerical features and create a ColumnTransformer Pipeline"
   ]
  },
  {
   "cell_type": "code",
   "execution_count": 22,
   "id": "d2202ce3",
   "metadata": {},
   "outputs": [],
   "source": [
    "# from sklearn.compose import ColumnTransformer\n",
    "# from sklearn.preprocessing import StandardScaler, OrdinalEncoder\n",
    "# from sklearn.pipeline import Pipeline\n",
    "\n",
    "# # List categorical and numeric columns\n",
    "# categorical_cols = ['PULocationID', 'weathercode', 'hour', 'day_of_week', 'month']\n",
    "\n",
    "# numeric_cols = ['temperature_2m', 'precipitation', 'ride_count_lag_1',\n",
    "#                 'ride_count_lag_24', 'ride_count_lag_168',\n",
    "#                 'ride_count_roll_mean_3', 'ride_count_roll_std_3']\n",
    "\n",
    "# # Define transformers for categorical and numeric columns\n",
    "# categorical_transformer = OrdinalEncoder()\n",
    "\n",
    "# numeric_transformer = StandardScaler()\n",
    "\n",
    "# # Create the ColumnTransformer\n",
    "# preprocessor = ColumnTransformer(\n",
    "#     transformers=[\n",
    "#         ('cat', categorical_transformer, categorical_cols),\n",
    "#         ('num', numeric_transformer, numeric_cols)\n",
    "#     ])\n",
    "\n",
    "\n",
    "# # Fit and transform your dataframe (excluding the target column)\n",
    "# X_preprocessed = preprocessor.fit_transform(df)\n",
    "\n",
    "# # To verify - converted to numpy array\n",
    "# print(X_preprocessed.shape)"
   ]
  },
  {
   "cell_type": "code",
   "execution_count": null,
   "id": "402e8c55",
   "metadata": {},
   "outputs": [
    {
     "name": "stdout",
     "output_type": "stream",
     "text": [
      "PULocationID    int64\n",
      "weathercode     int64\n",
      "hour            int64\n",
      "day_of_week     int64\n",
      "month           int64\n",
      "dtype: object\n",
      "PULocationID    261\n",
      "weathercode      13\n",
      "hour             24\n",
      "day_of_week       7\n",
      "month             3\n",
      "dtype: int64\n"
     ]
    }
   ],
   "source": [
    "from sklearn.preprocessing import LabelEncoder\n",
    "\n",
    "# List all the categorical columns to encode\n",
    "categorical_cols = ['PULocationID', 'weathercode', 'hour', 'day_of_week', 'month']\n",
    "\n",
    "# Apply Label Encoding to each categorical column\n",
    "for col in categorical_cols:\n",
    "    le =  LabelEncoder()\n",
    "    df[col] = le.fit_transform(df[col])\n",
    "\n",
    "\n",
    "# Verify encoding by checking unique values and dtypes\n",
    "print(df[categorical_cols].dtypes)\n",
    "print(df[categorical_cols].nunique())"
   ]
  },
  {
   "cell_type": "markdown",
   "id": "f647c28f",
   "metadata": {},
   "source": [
    "### Scaling Numerical Features\n",
    "\n",
    "Scale continuous features so the model traines efficiently"
   ]
  },
  {
   "cell_type": "code",
   "execution_count": null,
   "id": "8f9cb3d3",
   "metadata": {},
   "outputs": [
    {
     "name": "stdout",
     "output_type": "stream",
     "text": [
      "      temperature_2m  precipitation  ride_count_lag_1  ride_count_lag_24  \\\n",
      "1061        0.849687      -0.192887         -0.464490          -0.461202   \n",
      "1502        0.726678      -0.192887         -0.451131          -0.461202   \n",
      "1890        1.234089      -0.192887         -0.411056          -0.461202   \n",
      "2030        1.310969      -0.192887         -0.437773          -0.461202   \n",
      "2188        1.264841      -0.192887         -0.411056          -0.461202   \n",
      "\n",
      "      ride_count_lag_168  ride_count_roll_mean_3  ride_count_roll_std_3  \n",
      "1061           -0.439201               -0.476264              -0.476123  \n",
      "1502           -0.439201               -0.476264              -0.476123  \n",
      "1890           -0.439201               -0.476264              -0.476123  \n",
      "2030           -0.439201               -0.444261              -0.394000  \n",
      "2188           -0.439201               -0.430546              -0.414044  \n"
     ]
    }
   ],
   "source": [
    "from sklearn.preprocessing import StandardScaler\n",
    "\n",
    "# List of nuemeric columns to (excluding target and categorical features)\n",
    "\n",
    "numeric_cols =['temperature_2m', 'precipitation', 'ride_count_lag_1',\n",
    "               'ride_count_lag_24', 'ride_count_lag_168',\n",
    "               'ride_count_roll_mean_3', 'ride_count_roll_std_3']\n",
    "\n",
    "scaler = StandardScaler()\n",
    "df[numeric_cols] = scaler.fit_transform(df[numeric_cols])\n",
    "\n",
    "print(df[numeric_cols].head())"
   ]
  },
  {
   "cell_type": "code",
   "execution_count": 17,
   "id": "291bf4aa",
   "metadata": {},
   "outputs": [],
   "source": [
    "df.reset_index(drop=True, inplace=True)"
   ]
  },
  {
   "cell_type": "markdown",
   "id": "b7b59248",
   "metadata": {},
   "source": [
    "### Let us build base ANN Model using Tensorflow"
   ]
  },
  {
   "cell_type": "code",
   "execution_count": 18,
   "id": "367b44cc",
   "metadata": {},
   "outputs": [
    {
     "name": "stderr",
     "output_type": "stream",
     "text": [
      "2025-08-21 10:49:00.276611: I tensorflow/core/platform/cpu_feature_guard.cc:210] This TensorFlow binary is optimized to use available CPU instructions in performance-critical operations.\n",
      "To enable the following instructions: AVX2 FMA, in other operations, rebuild TensorFlow with the appropriate compiler flags.\n"
     ]
    },
    {
     "name": "stdout",
     "output_type": "stream",
     "text": [
      "[PhysicalDevice(name='/physical_device:GPU:0', device_type='GPU')]\n"
     ]
    }
   ],
   "source": [
    "import tensorflow as tf\n",
    "print(tf.config.list_physical_devices('GPU'))"
   ]
  },
  {
   "cell_type": "markdown",
   "id": "c3563b12",
   "metadata": {},
   "source": [
    "#### Define Input Layers, Embeddings, and Model Architecture"
   ]
  },
  {
   "cell_type": "markdown",
   "id": "dd5666c2",
   "metadata": {},
   "source": [
    "##### <b>Function Description: build_ann_model</b>\n",
    "\n",
    "This function builds and compiles a neural network model designed to handle both categorical and numerical features for a regression task. It leverages embedding layers for categorical inputs and dense layers for numeric inputs, combining them into a unified architecture for prediction.\n",
    "\n",
    "<b>Key Components and Their Benefits</b>\n",
    "\n",
    "1. Categorical Features with Embeddings\n",
    "\n",
    "    - Input Layers for Each Categorical Feature:\n",
    "    Each categorical variable (like PULocationID, weathercode, etc.) is represented by a separate input layer, accepting integer-encoded category indices.\n",
    "\n",
    "    - Embedding Layers:\n",
    "    Each categorical input is passed through an embedding layer which converts sparse, high-dimensional categories into dense, lower-dimensional continuous vectors.\n",
    "\n",
    "        - Importance:\n",
    "        Embeddings capture semantic similarity and relationships between categories, allowing the model to learn meaningful patterns beyond simple one-hot encoding or ordinal encoding.\n",
    "\n",
    "        - Benefit:\n",
    "        Improves model performance for high-cardinality categorical features by efficiently representing them in a compact vector space.\n",
    "\n",
    "    - Flattening Embeddings:\n",
    "    The output embeddings are flattened into 1D vectors to be concatenated with other feature vectors later.\n",
    "\n",
    "2. Numerical Features Input\n",
    "    - All continuous numeric predictors (e.g., weather measurements, lagged ride counts, rolling statistics) are combined into a single input layer.\n",
    "\n",
    "    - Standard scaling or normalization of these features (done during preprocessing outside this function) helps training stability and convergence.\n",
    "\n",
    "3. Concatenation of All Features\n",
    "\n",
    "- Embeddings from categorical features and the numeric input vector are concatenated into a single combined feature vector.\n",
    "\n",
    "- Importance:\n",
    "Combining all feature representations allows the neural network to learn interactions between categorical and numerical inputs.\n",
    "\n",
    "4. Fully Connected Dense Layers\n",
    "\n",
    "- A sequence of dense layers applies nonlinear transformations on the concatenated feature vector to learn complex patterns in data.\n",
    "\n",
    "- The model uses ReLU activation functions to introduce nonlinearity while maintaining efficient gradient flow.\n",
    "\n",
    "5. Output Layer\n",
    "\n",
    "- A single neuron with linear activation to predict a continuous target value (regression).\n",
    "\n",
    "- Loss and Metrics:\n",
    "The model is compiled with mean squared error (mse) as the loss and mean absolute error (mae) as an additional performance metric, which are standard choices for regression problems."
   ]
  },
  {
   "cell_type": "code",
   "execution_count": 23,
   "id": "b8b8a251",
   "metadata": {},
   "outputs": [],
   "source": [
    "from tensorflow.keras.layers import Input, Dense, Embedding, Flatten, Concatenate\n",
    "from tensorflow.keras.models import Model\n",
    "\n",
    "\n",
    "def build_ann_model():\n",
    "    inputs = {}\n",
    "    embeddings = []\n",
    "\n",
    "    # Categorical features and embedding sizes\n",
    "    cat_features = ['PULocationID', 'weathercode', 'hour', 'day_of_week', 'month']\n",
    "    emb_sizes = {\n",
    "        'PULocationID': 50,\n",
    "        'weathercode': 6,\n",
    "        'hour': 5,\n",
    "        'day_of_week': 3,\n",
    "        'month': 2}\n",
    "\n",
    "    for col in cat_features:\n",
    "        inputs[col] = Input(shape = (1,), name = col)\n",
    "        emb = Embedding(input_dim = df[col].nunique()+1, output_dim = emb_sizes[col], name = f'emb_{col}')(inputs[col])\n",
    "        embeddings.append(Flatten()(emb))  # Flatten the embedding output\n",
    "\n",
    "    # Numerical features\n",
    "    numeric_cols = ['is_weekend', 'is_holiday', 'temperature_2m', 'precipitation',\n",
    "                'ride_count_lag_1', 'ride_count_lag_24', 'ride_count_lag_168',\n",
    "                'ride_count_roll_mean_3', 'ride_count_roll_std_3']\n",
    "\n",
    "    numeric_inputs = Input(shape = (len(numeric_cols), ), name = 'numeric_inputs')\n",
    "    embeddings.append(numeric_inputs)\n",
    "\n",
    "    # Concatenate embeddings and numeric features\n",
    "    x = Concatenate()(embeddings)\n",
    "    x = Dense(128, activation = 'relu')(x)\n",
    "    x = Dense(64, activation = 'relu')(x)\n",
    "    output = Dense(1, activation = 'linear')(x) # Regression output\n",
    "\n",
    "    model = Model(inputs = [*inputs.values(), numeric_inputs], outputs = output)\n",
    "    model.compile(optimizer = 'adam', loss = 'mse', metrics = ['mae'])\n",
    "    return model"
   ]
  },
  {
   "cell_type": "code",
   "execution_count": 24,
   "id": "74b9baf5",
   "metadata": {},
   "outputs": [
    {
     "data": {
      "text/html": [
       "<pre style=\"white-space:pre;overflow-x:auto;line-height:normal;font-family:Menlo,'DejaVu Sans Mono',consolas,'Courier New',monospace\"><span style=\"font-weight: bold\">Model: \"functional_2\"</span>\n",
       "</pre>\n"
      ],
      "text/plain": [
       "\u001b[1mModel: \"functional_2\"\u001b[0m\n"
      ]
     },
     "metadata": {},
     "output_type": "display_data"
    },
    {
     "data": {
      "text/html": [
       "<pre style=\"white-space:pre;overflow-x:auto;line-height:normal;font-family:Menlo,'DejaVu Sans Mono',consolas,'Courier New',monospace\">┏━━━━━━━━━━━━━━━━━━━━━┳━━━━━━━━━━━━━━━━━━━┳━━━━━━━━━━━━┳━━━━━━━━━━━━━━━━━━━┓\n",
       "┃<span style=\"font-weight: bold\"> Layer (type)        </span>┃<span style=\"font-weight: bold\"> Output Shape      </span>┃<span style=\"font-weight: bold\">    Param # </span>┃<span style=\"font-weight: bold\"> Connected to      </span>┃\n",
       "┡━━━━━━━━━━━━━━━━━━━━━╇━━━━━━━━━━━━━━━━━━━╇━━━━━━━━━━━━╇━━━━━━━━━━━━━━━━━━━┩\n",
       "│ PULocationID        │ (<span style=\"color: #00d7ff; text-decoration-color: #00d7ff\">None</span>, <span style=\"color: #00af00; text-decoration-color: #00af00\">1</span>)         │          <span style=\"color: #00af00; text-decoration-color: #00af00\">0</span> │ -                 │\n",
       "│ (<span style=\"color: #0087ff; text-decoration-color: #0087ff\">InputLayer</span>)        │                   │            │                   │\n",
       "├─────────────────────┼───────────────────┼────────────┼───────────────────┤\n",
       "│ weathercode         │ (<span style=\"color: #00d7ff; text-decoration-color: #00d7ff\">None</span>, <span style=\"color: #00af00; text-decoration-color: #00af00\">1</span>)         │          <span style=\"color: #00af00; text-decoration-color: #00af00\">0</span> │ -                 │\n",
       "│ (<span style=\"color: #0087ff; text-decoration-color: #0087ff\">InputLayer</span>)        │                   │            │                   │\n",
       "├─────────────────────┼───────────────────┼────────────┼───────────────────┤\n",
       "│ hour (<span style=\"color: #0087ff; text-decoration-color: #0087ff\">InputLayer</span>)   │ (<span style=\"color: #00d7ff; text-decoration-color: #00d7ff\">None</span>, <span style=\"color: #00af00; text-decoration-color: #00af00\">1</span>)         │          <span style=\"color: #00af00; text-decoration-color: #00af00\">0</span> │ -                 │\n",
       "├─────────────────────┼───────────────────┼────────────┼───────────────────┤\n",
       "│ day_of_week         │ (<span style=\"color: #00d7ff; text-decoration-color: #00d7ff\">None</span>, <span style=\"color: #00af00; text-decoration-color: #00af00\">1</span>)         │          <span style=\"color: #00af00; text-decoration-color: #00af00\">0</span> │ -                 │\n",
       "│ (<span style=\"color: #0087ff; text-decoration-color: #0087ff\">InputLayer</span>)        │                   │            │                   │\n",
       "├─────────────────────┼───────────────────┼────────────┼───────────────────┤\n",
       "│ month (<span style=\"color: #0087ff; text-decoration-color: #0087ff\">InputLayer</span>)  │ (<span style=\"color: #00d7ff; text-decoration-color: #00d7ff\">None</span>, <span style=\"color: #00af00; text-decoration-color: #00af00\">1</span>)         │          <span style=\"color: #00af00; text-decoration-color: #00af00\">0</span> │ -                 │\n",
       "├─────────────────────┼───────────────────┼────────────┼───────────────────┤\n",
       "│ emb_PULocationID    │ (<span style=\"color: #00d7ff; text-decoration-color: #00d7ff\">None</span>, <span style=\"color: #00af00; text-decoration-color: #00af00\">1</span>, <span style=\"color: #00af00; text-decoration-color: #00af00\">50</span>)     │     <span style=\"color: #00af00; text-decoration-color: #00af00\">13,100</span> │ PULocationID[<span style=\"color: #00af00; text-decoration-color: #00af00\">0</span>][<span style=\"color: #00af00; text-decoration-color: #00af00\">…</span> │\n",
       "│ (<span style=\"color: #0087ff; text-decoration-color: #0087ff\">Embedding</span>)         │                   │            │                   │\n",
       "├─────────────────────┼───────────────────┼────────────┼───────────────────┤\n",
       "│ emb_weathercode     │ (<span style=\"color: #00d7ff; text-decoration-color: #00d7ff\">None</span>, <span style=\"color: #00af00; text-decoration-color: #00af00\">1</span>, <span style=\"color: #00af00; text-decoration-color: #00af00\">6</span>)      │         <span style=\"color: #00af00; text-decoration-color: #00af00\">84</span> │ weathercode[<span style=\"color: #00af00; text-decoration-color: #00af00\">0</span>][<span style=\"color: #00af00; text-decoration-color: #00af00\">0</span>] │\n",
       "│ (<span style=\"color: #0087ff; text-decoration-color: #0087ff\">Embedding</span>)         │                   │            │                   │\n",
       "├─────────────────────┼───────────────────┼────────────┼───────────────────┤\n",
       "│ emb_hour            │ (<span style=\"color: #00d7ff; text-decoration-color: #00d7ff\">None</span>, <span style=\"color: #00af00; text-decoration-color: #00af00\">1</span>, <span style=\"color: #00af00; text-decoration-color: #00af00\">5</span>)      │        <span style=\"color: #00af00; text-decoration-color: #00af00\">125</span> │ hour[<span style=\"color: #00af00; text-decoration-color: #00af00\">0</span>][<span style=\"color: #00af00; text-decoration-color: #00af00\">0</span>]        │\n",
       "│ (<span style=\"color: #0087ff; text-decoration-color: #0087ff\">Embedding</span>)         │                   │            │                   │\n",
       "├─────────────────────┼───────────────────┼────────────┼───────────────────┤\n",
       "│ emb_day_of_week     │ (<span style=\"color: #00d7ff; text-decoration-color: #00d7ff\">None</span>, <span style=\"color: #00af00; text-decoration-color: #00af00\">1</span>, <span style=\"color: #00af00; text-decoration-color: #00af00\">3</span>)      │         <span style=\"color: #00af00; text-decoration-color: #00af00\">24</span> │ day_of_week[<span style=\"color: #00af00; text-decoration-color: #00af00\">0</span>][<span style=\"color: #00af00; text-decoration-color: #00af00\">0</span>] │\n",
       "│ (<span style=\"color: #0087ff; text-decoration-color: #0087ff\">Embedding</span>)         │                   │            │                   │\n",
       "├─────────────────────┼───────────────────┼────────────┼───────────────────┤\n",
       "│ emb_month           │ (<span style=\"color: #00d7ff; text-decoration-color: #00d7ff\">None</span>, <span style=\"color: #00af00; text-decoration-color: #00af00\">1</span>, <span style=\"color: #00af00; text-decoration-color: #00af00\">2</span>)      │          <span style=\"color: #00af00; text-decoration-color: #00af00\">8</span> │ month[<span style=\"color: #00af00; text-decoration-color: #00af00\">0</span>][<span style=\"color: #00af00; text-decoration-color: #00af00\">0</span>]       │\n",
       "│ (<span style=\"color: #0087ff; text-decoration-color: #0087ff\">Embedding</span>)         │                   │            │                   │\n",
       "├─────────────────────┼───────────────────┼────────────┼───────────────────┤\n",
       "│ flatten (<span style=\"color: #0087ff; text-decoration-color: #0087ff\">Flatten</span>)   │ (<span style=\"color: #00d7ff; text-decoration-color: #00d7ff\">None</span>, <span style=\"color: #00af00; text-decoration-color: #00af00\">50</span>)        │          <span style=\"color: #00af00; text-decoration-color: #00af00\">0</span> │ emb_PULocationID… │\n",
       "├─────────────────────┼───────────────────┼────────────┼───────────────────┤\n",
       "│ flatten_1 (<span style=\"color: #0087ff; text-decoration-color: #0087ff\">Flatten</span>) │ (<span style=\"color: #00d7ff; text-decoration-color: #00d7ff\">None</span>, <span style=\"color: #00af00; text-decoration-color: #00af00\">6</span>)         │          <span style=\"color: #00af00; text-decoration-color: #00af00\">0</span> │ emb_weathercode[<span style=\"color: #00af00; text-decoration-color: #00af00\">…</span> │\n",
       "├─────────────────────┼───────────────────┼────────────┼───────────────────┤\n",
       "│ flatten_2 (<span style=\"color: #0087ff; text-decoration-color: #0087ff\">Flatten</span>) │ (<span style=\"color: #00d7ff; text-decoration-color: #00d7ff\">None</span>, <span style=\"color: #00af00; text-decoration-color: #00af00\">5</span>)         │          <span style=\"color: #00af00; text-decoration-color: #00af00\">0</span> │ emb_hour[<span style=\"color: #00af00; text-decoration-color: #00af00\">0</span>][<span style=\"color: #00af00; text-decoration-color: #00af00\">0</span>]    │\n",
       "├─────────────────────┼───────────────────┼────────────┼───────────────────┤\n",
       "│ flatten_3 (<span style=\"color: #0087ff; text-decoration-color: #0087ff\">Flatten</span>) │ (<span style=\"color: #00d7ff; text-decoration-color: #00d7ff\">None</span>, <span style=\"color: #00af00; text-decoration-color: #00af00\">3</span>)         │          <span style=\"color: #00af00; text-decoration-color: #00af00\">0</span> │ emb_day_of_week[<span style=\"color: #00af00; text-decoration-color: #00af00\">…</span> │\n",
       "├─────────────────────┼───────────────────┼────────────┼───────────────────┤\n",
       "│ flatten_4 (<span style=\"color: #0087ff; text-decoration-color: #0087ff\">Flatten</span>) │ (<span style=\"color: #00d7ff; text-decoration-color: #00d7ff\">None</span>, <span style=\"color: #00af00; text-decoration-color: #00af00\">2</span>)         │          <span style=\"color: #00af00; text-decoration-color: #00af00\">0</span> │ emb_month[<span style=\"color: #00af00; text-decoration-color: #00af00\">0</span>][<span style=\"color: #00af00; text-decoration-color: #00af00\">0</span>]   │\n",
       "├─────────────────────┼───────────────────┼────────────┼───────────────────┤\n",
       "│ numeric_inputs      │ (<span style=\"color: #00d7ff; text-decoration-color: #00d7ff\">None</span>, <span style=\"color: #00af00; text-decoration-color: #00af00\">9</span>)         │          <span style=\"color: #00af00; text-decoration-color: #00af00\">0</span> │ -                 │\n",
       "│ (<span style=\"color: #0087ff; text-decoration-color: #0087ff\">InputLayer</span>)        │                   │            │                   │\n",
       "├─────────────────────┼───────────────────┼────────────┼───────────────────┤\n",
       "│ concatenate         │ (<span style=\"color: #00d7ff; text-decoration-color: #00d7ff\">None</span>, <span style=\"color: #00af00; text-decoration-color: #00af00\">75</span>)        │          <span style=\"color: #00af00; text-decoration-color: #00af00\">0</span> │ flatten[<span style=\"color: #00af00; text-decoration-color: #00af00\">0</span>][<span style=\"color: #00af00; text-decoration-color: #00af00\">0</span>],    │\n",
       "│ (<span style=\"color: #0087ff; text-decoration-color: #0087ff\">Concatenate</span>)       │                   │            │ flatten_1[<span style=\"color: #00af00; text-decoration-color: #00af00\">0</span>][<span style=\"color: #00af00; text-decoration-color: #00af00\">0</span>],  │\n",
       "│                     │                   │            │ flatten_2[<span style=\"color: #00af00; text-decoration-color: #00af00\">0</span>][<span style=\"color: #00af00; text-decoration-color: #00af00\">0</span>],  │\n",
       "│                     │                   │            │ flatten_3[<span style=\"color: #00af00; text-decoration-color: #00af00\">0</span>][<span style=\"color: #00af00; text-decoration-color: #00af00\">0</span>],  │\n",
       "│                     │                   │            │ flatten_4[<span style=\"color: #00af00; text-decoration-color: #00af00\">0</span>][<span style=\"color: #00af00; text-decoration-color: #00af00\">0</span>],  │\n",
       "│                     │                   │            │ numeric_inputs[<span style=\"color: #00af00; text-decoration-color: #00af00\">0</span>… │\n",
       "├─────────────────────┼───────────────────┼────────────┼───────────────────┤\n",
       "│ dense_6 (<span style=\"color: #0087ff; text-decoration-color: #0087ff\">Dense</span>)     │ (<span style=\"color: #00d7ff; text-decoration-color: #00d7ff\">None</span>, <span style=\"color: #00af00; text-decoration-color: #00af00\">128</span>)       │      <span style=\"color: #00af00; text-decoration-color: #00af00\">9,728</span> │ concatenate[<span style=\"color: #00af00; text-decoration-color: #00af00\">0</span>][<span style=\"color: #00af00; text-decoration-color: #00af00\">0</span>] │\n",
       "├─────────────────────┼───────────────────┼────────────┼───────────────────┤\n",
       "│ dense_7 (<span style=\"color: #0087ff; text-decoration-color: #0087ff\">Dense</span>)     │ (<span style=\"color: #00d7ff; text-decoration-color: #00d7ff\">None</span>, <span style=\"color: #00af00; text-decoration-color: #00af00\">64</span>)        │      <span style=\"color: #00af00; text-decoration-color: #00af00\">8,256</span> │ dense_6[<span style=\"color: #00af00; text-decoration-color: #00af00\">0</span>][<span style=\"color: #00af00; text-decoration-color: #00af00\">0</span>]     │\n",
       "├─────────────────────┼───────────────────┼────────────┼───────────────────┤\n",
       "│ dense_8 (<span style=\"color: #0087ff; text-decoration-color: #0087ff\">Dense</span>)     │ (<span style=\"color: #00d7ff; text-decoration-color: #00d7ff\">None</span>, <span style=\"color: #00af00; text-decoration-color: #00af00\">1</span>)         │         <span style=\"color: #00af00; text-decoration-color: #00af00\">65</span> │ dense_7[<span style=\"color: #00af00; text-decoration-color: #00af00\">0</span>][<span style=\"color: #00af00; text-decoration-color: #00af00\">0</span>]     │\n",
       "└─────────────────────┴───────────────────┴────────────┴───────────────────┘\n",
       "</pre>\n"
      ],
      "text/plain": [
       "┏━━━━━━━━━━━━━━━━━━━━━┳━━━━━━━━━━━━━━━━━━━┳━━━━━━━━━━━━┳━━━━━━━━━━━━━━━━━━━┓\n",
       "┃\u001b[1m \u001b[0m\u001b[1mLayer (type)       \u001b[0m\u001b[1m \u001b[0m┃\u001b[1m \u001b[0m\u001b[1mOutput Shape     \u001b[0m\u001b[1m \u001b[0m┃\u001b[1m \u001b[0m\u001b[1m   Param #\u001b[0m\u001b[1m \u001b[0m┃\u001b[1m \u001b[0m\u001b[1mConnected to     \u001b[0m\u001b[1m \u001b[0m┃\n",
       "┡━━━━━━━━━━━━━━━━━━━━━╇━━━━━━━━━━━━━━━━━━━╇━━━━━━━━━━━━╇━━━━━━━━━━━━━━━━━━━┩\n",
       "│ PULocationID        │ (\u001b[38;5;45mNone\u001b[0m, \u001b[38;5;34m1\u001b[0m)         │          \u001b[38;5;34m0\u001b[0m │ -                 │\n",
       "│ (\u001b[38;5;33mInputLayer\u001b[0m)        │                   │            │                   │\n",
       "├─────────────────────┼───────────────────┼────────────┼───────────────────┤\n",
       "│ weathercode         │ (\u001b[38;5;45mNone\u001b[0m, \u001b[38;5;34m1\u001b[0m)         │          \u001b[38;5;34m0\u001b[0m │ -                 │\n",
       "│ (\u001b[38;5;33mInputLayer\u001b[0m)        │                   │            │                   │\n",
       "├─────────────────────┼───────────────────┼────────────┼───────────────────┤\n",
       "│ hour (\u001b[38;5;33mInputLayer\u001b[0m)   │ (\u001b[38;5;45mNone\u001b[0m, \u001b[38;5;34m1\u001b[0m)         │          \u001b[38;5;34m0\u001b[0m │ -                 │\n",
       "├─────────────────────┼───────────────────┼────────────┼───────────────────┤\n",
       "│ day_of_week         │ (\u001b[38;5;45mNone\u001b[0m, \u001b[38;5;34m1\u001b[0m)         │          \u001b[38;5;34m0\u001b[0m │ -                 │\n",
       "│ (\u001b[38;5;33mInputLayer\u001b[0m)        │                   │            │                   │\n",
       "├─────────────────────┼───────────────────┼────────────┼───────────────────┤\n",
       "│ month (\u001b[38;5;33mInputLayer\u001b[0m)  │ (\u001b[38;5;45mNone\u001b[0m, \u001b[38;5;34m1\u001b[0m)         │          \u001b[38;5;34m0\u001b[0m │ -                 │\n",
       "├─────────────────────┼───────────────────┼────────────┼───────────────────┤\n",
       "│ emb_PULocationID    │ (\u001b[38;5;45mNone\u001b[0m, \u001b[38;5;34m1\u001b[0m, \u001b[38;5;34m50\u001b[0m)     │     \u001b[38;5;34m13,100\u001b[0m │ PULocationID[\u001b[38;5;34m0\u001b[0m][\u001b[38;5;34m…\u001b[0m │\n",
       "│ (\u001b[38;5;33mEmbedding\u001b[0m)         │                   │            │                   │\n",
       "├─────────────────────┼───────────────────┼────────────┼───────────────────┤\n",
       "│ emb_weathercode     │ (\u001b[38;5;45mNone\u001b[0m, \u001b[38;5;34m1\u001b[0m, \u001b[38;5;34m6\u001b[0m)      │         \u001b[38;5;34m84\u001b[0m │ weathercode[\u001b[38;5;34m0\u001b[0m][\u001b[38;5;34m0\u001b[0m] │\n",
       "│ (\u001b[38;5;33mEmbedding\u001b[0m)         │                   │            │                   │\n",
       "├─────────────────────┼───────────────────┼────────────┼───────────────────┤\n",
       "│ emb_hour            │ (\u001b[38;5;45mNone\u001b[0m, \u001b[38;5;34m1\u001b[0m, \u001b[38;5;34m5\u001b[0m)      │        \u001b[38;5;34m125\u001b[0m │ hour[\u001b[38;5;34m0\u001b[0m][\u001b[38;5;34m0\u001b[0m]        │\n",
       "│ (\u001b[38;5;33mEmbedding\u001b[0m)         │                   │            │                   │\n",
       "├─────────────────────┼───────────────────┼────────────┼───────────────────┤\n",
       "│ emb_day_of_week     │ (\u001b[38;5;45mNone\u001b[0m, \u001b[38;5;34m1\u001b[0m, \u001b[38;5;34m3\u001b[0m)      │         \u001b[38;5;34m24\u001b[0m │ day_of_week[\u001b[38;5;34m0\u001b[0m][\u001b[38;5;34m0\u001b[0m] │\n",
       "│ (\u001b[38;5;33mEmbedding\u001b[0m)         │                   │            │                   │\n",
       "├─────────────────────┼───────────────────┼────────────┼───────────────────┤\n",
       "│ emb_month           │ (\u001b[38;5;45mNone\u001b[0m, \u001b[38;5;34m1\u001b[0m, \u001b[38;5;34m2\u001b[0m)      │          \u001b[38;5;34m8\u001b[0m │ month[\u001b[38;5;34m0\u001b[0m][\u001b[38;5;34m0\u001b[0m]       │\n",
       "│ (\u001b[38;5;33mEmbedding\u001b[0m)         │                   │            │                   │\n",
       "├─────────────────────┼───────────────────┼────────────┼───────────────────┤\n",
       "│ flatten (\u001b[38;5;33mFlatten\u001b[0m)   │ (\u001b[38;5;45mNone\u001b[0m, \u001b[38;5;34m50\u001b[0m)        │          \u001b[38;5;34m0\u001b[0m │ emb_PULocationID… │\n",
       "├─────────────────────┼───────────────────┼────────────┼───────────────────┤\n",
       "│ flatten_1 (\u001b[38;5;33mFlatten\u001b[0m) │ (\u001b[38;5;45mNone\u001b[0m, \u001b[38;5;34m6\u001b[0m)         │          \u001b[38;5;34m0\u001b[0m │ emb_weathercode[\u001b[38;5;34m…\u001b[0m │\n",
       "├─────────────────────┼───────────────────┼────────────┼───────────────────┤\n",
       "│ flatten_2 (\u001b[38;5;33mFlatten\u001b[0m) │ (\u001b[38;5;45mNone\u001b[0m, \u001b[38;5;34m5\u001b[0m)         │          \u001b[38;5;34m0\u001b[0m │ emb_hour[\u001b[38;5;34m0\u001b[0m][\u001b[38;5;34m0\u001b[0m]    │\n",
       "├─────────────────────┼───────────────────┼────────────┼───────────────────┤\n",
       "│ flatten_3 (\u001b[38;5;33mFlatten\u001b[0m) │ (\u001b[38;5;45mNone\u001b[0m, \u001b[38;5;34m3\u001b[0m)         │          \u001b[38;5;34m0\u001b[0m │ emb_day_of_week[\u001b[38;5;34m…\u001b[0m │\n",
       "├─────────────────────┼───────────────────┼────────────┼───────────────────┤\n",
       "│ flatten_4 (\u001b[38;5;33mFlatten\u001b[0m) │ (\u001b[38;5;45mNone\u001b[0m, \u001b[38;5;34m2\u001b[0m)         │          \u001b[38;5;34m0\u001b[0m │ emb_month[\u001b[38;5;34m0\u001b[0m][\u001b[38;5;34m0\u001b[0m]   │\n",
       "├─────────────────────┼───────────────────┼────────────┼───────────────────┤\n",
       "│ numeric_inputs      │ (\u001b[38;5;45mNone\u001b[0m, \u001b[38;5;34m9\u001b[0m)         │          \u001b[38;5;34m0\u001b[0m │ -                 │\n",
       "│ (\u001b[38;5;33mInputLayer\u001b[0m)        │                   │            │                   │\n",
       "├─────────────────────┼───────────────────┼────────────┼───────────────────┤\n",
       "│ concatenate         │ (\u001b[38;5;45mNone\u001b[0m, \u001b[38;5;34m75\u001b[0m)        │          \u001b[38;5;34m0\u001b[0m │ flatten[\u001b[38;5;34m0\u001b[0m][\u001b[38;5;34m0\u001b[0m],    │\n",
       "│ (\u001b[38;5;33mConcatenate\u001b[0m)       │                   │            │ flatten_1[\u001b[38;5;34m0\u001b[0m][\u001b[38;5;34m0\u001b[0m],  │\n",
       "│                     │                   │            │ flatten_2[\u001b[38;5;34m0\u001b[0m][\u001b[38;5;34m0\u001b[0m],  │\n",
       "│                     │                   │            │ flatten_3[\u001b[38;5;34m0\u001b[0m][\u001b[38;5;34m0\u001b[0m],  │\n",
       "│                     │                   │            │ flatten_4[\u001b[38;5;34m0\u001b[0m][\u001b[38;5;34m0\u001b[0m],  │\n",
       "│                     │                   │            │ numeric_inputs[\u001b[38;5;34m0\u001b[0m… │\n",
       "├─────────────────────┼───────────────────┼────────────┼───────────────────┤\n",
       "│ dense_6 (\u001b[38;5;33mDense\u001b[0m)     │ (\u001b[38;5;45mNone\u001b[0m, \u001b[38;5;34m128\u001b[0m)       │      \u001b[38;5;34m9,728\u001b[0m │ concatenate[\u001b[38;5;34m0\u001b[0m][\u001b[38;5;34m0\u001b[0m] │\n",
       "├─────────────────────┼───────────────────┼────────────┼───────────────────┤\n",
       "│ dense_7 (\u001b[38;5;33mDense\u001b[0m)     │ (\u001b[38;5;45mNone\u001b[0m, \u001b[38;5;34m64\u001b[0m)        │      \u001b[38;5;34m8,256\u001b[0m │ dense_6[\u001b[38;5;34m0\u001b[0m][\u001b[38;5;34m0\u001b[0m]     │\n",
       "├─────────────────────┼───────────────────┼────────────┼───────────────────┤\n",
       "│ dense_8 (\u001b[38;5;33mDense\u001b[0m)     │ (\u001b[38;5;45mNone\u001b[0m, \u001b[38;5;34m1\u001b[0m)         │         \u001b[38;5;34m65\u001b[0m │ dense_7[\u001b[38;5;34m0\u001b[0m][\u001b[38;5;34m0\u001b[0m]     │\n",
       "└─────────────────────┴───────────────────┴────────────┴───────────────────┘\n"
      ]
     },
     "metadata": {},
     "output_type": "display_data"
    },
    {
     "data": {
      "text/html": [
       "<pre style=\"white-space:pre;overflow-x:auto;line-height:normal;font-family:Menlo,'DejaVu Sans Mono',consolas,'Courier New',monospace\"><span style=\"font-weight: bold\"> Total params: </span><span style=\"color: #00af00; text-decoration-color: #00af00\">31,390</span> (122.62 KB)\n",
       "</pre>\n"
      ],
      "text/plain": [
       "\u001b[1m Total params: \u001b[0m\u001b[38;5;34m31,390\u001b[0m (122.62 KB)\n"
      ]
     },
     "metadata": {},
     "output_type": "display_data"
    },
    {
     "data": {
      "text/html": [
       "<pre style=\"white-space:pre;overflow-x:auto;line-height:normal;font-family:Menlo,'DejaVu Sans Mono',consolas,'Courier New',monospace\"><span style=\"font-weight: bold\"> Trainable params: </span><span style=\"color: #00af00; text-decoration-color: #00af00\">31,390</span> (122.62 KB)\n",
       "</pre>\n"
      ],
      "text/plain": [
       "\u001b[1m Trainable params: \u001b[0m\u001b[38;5;34m31,390\u001b[0m (122.62 KB)\n"
      ]
     },
     "metadata": {},
     "output_type": "display_data"
    },
    {
     "data": {
      "text/html": [
       "<pre style=\"white-space:pre;overflow-x:auto;line-height:normal;font-family:Menlo,'DejaVu Sans Mono',consolas,'Courier New',monospace\"><span style=\"font-weight: bold\"> Non-trainable params: </span><span style=\"color: #00af00; text-decoration-color: #00af00\">0</span> (0.00 B)\n",
       "</pre>\n"
      ],
      "text/plain": [
       "\u001b[1m Non-trainable params: \u001b[0m\u001b[38;5;34m0\u001b[0m (0.00 B)\n"
      ]
     },
     "metadata": {},
     "output_type": "display_data"
    }
   ],
   "source": [
    "model = build_ann_model()\n",
    "model.summary()"
   ]
  },
  {
   "cell_type": "markdown",
   "id": "c2a5946d",
   "metadata": {},
   "source": [
    "#### Prepare Data Dictionaries for Model Input"
   ]
  },
  {
   "cell_type": "code",
   "execution_count": 43,
   "id": "0108ae07",
   "metadata": {},
   "outputs": [],
   "source": [
    "# Features already label encoded and numeric features scaled\n",
    "numeric_cols = ['is_weekend', 'is_holiday', 'temperature_2m', 'precipitation',\n",
    "                    'ride_count_lag_1', 'ride_count_lag_24', 'ride_count_lag_168',\n",
    "                    'ride_count_roll_mean_3', 'ride_count_roll_std_3']\n",
    "X = df[categorical_cols + numeric_cols]\n",
    "y = df['ride_count']\n",
    "\n",
    "# Split the data into training and validation sets\n",
    "from sklearn.model_selection import train_test_split\n",
    "X_train, X_val, y_train, y_val = train_test_split(X, y, test_size = 0.2, random_state = 42)\n",
    "\n",
    "def create_model_inputs(X):\n",
    "    inputs = {col: X[col].values for col in categorical_cols}\n",
    "    inputs['numeric_inputs'] = X[numeric_cols].values\n",
    "    return inputs\n",
    "\n",
    "train_inputs = create_model_inputs(X_train)\n",
    "val_inputs = create_model_inputs(X_val)"
   ]
  },
  {
   "cell_type": "markdown",
   "id": "f04b6eaf",
   "metadata": {},
   "source": [
    "#### Train the Model"
   ]
  },
  {
   "cell_type": "code",
   "execution_count": null,
   "id": "9df3334f",
   "metadata": {},
   "outputs": [
    {
     "name": "stdout",
     "output_type": "stream",
     "text": [
      "Epoch 1/10\n"
     ]
    },
    {
     "name": "stderr",
     "output_type": "stream",
     "text": [
      "2025-08-20 22:08:22.415625: I external/local_xla/xla/service/service.cc:163] XLA service 0x79bd48003ce0 initialized for platform CUDA (this does not guarantee that XLA will be used). Devices:\n",
      "2025-08-20 22:08:22.415745: I external/local_xla/xla/service/service.cc:171]   StreamExecutor device (0): NVIDIA GeForce RTX 3080 Laptop GPU, Compute Capability 8.6\n",
      "2025-08-20 22:08:22.490138: I tensorflow/compiler/mlir/tensorflow/utils/dump_mlir_util.cc:269] disabling MLIR crash reproducer, set env var `MLIR_CRASH_REPRODUCER_DIRECTORY` to enable.\n",
      "2025-08-20 22:08:22.764309: I external/local_xla/xla/stream_executor/cuda/cuda_dnn.cc:473] Loaded cuDNN version 91200\n",
      "2025-08-20 22:08:22.809343: I external/local_xla/xla/service/gpu/autotuning/dot_search_space.cc:208] All configs were filtered out because none of them sufficiently match the hints. Maybe the hints set does not contain a good representative set of valid configs? Working around this by using the full hints set instead.\n",
      "2025-08-20 22:08:22.809415: I external/local_xla/xla/service/gpu/autotuning/dot_search_space.cc:208] All configs were filtered out because none of them sufficiently match the hints. Maybe the hints set does not contain a good representative set of valid configs? Working around this by using the full hints set instead.\n",
      "2025-08-20 22:08:22.809448: I external/local_xla/xla/service/gpu/autotuning/dot_search_space.cc:208] All configs were filtered out because none of them sufficiently match the hints. Maybe the hints set does not contain a good representative set of valid configs? Working around this by using the full hints set instead.\n",
      "2025-08-20 22:08:23.920398: I external/local_xla/xla/stream_executor/cuda/subprocess_compilation.cc:346] ptxas warning : Registers are spilled to local memory in function 'gemm_fusion_dot_369', 92 bytes spill stores, 92 bytes spill loads\n",
      "\n",
      "2025-08-20 22:08:24.506849: I external/local_xla/xla/stream_executor/cuda/subprocess_compilation.cc:346] ptxas warning : Registers are spilled to local memory in function 'gemm_fusion_dot_642', 124 bytes spill stores, 124 bytes spill loads\n",
      "\n",
      "2025-08-20 22:08:24.619715: I external/local_xla/xla/stream_executor/cuda/subprocess_compilation.cc:346] ptxas warning : Registers are spilled to local memory in function 'gemm_fusion_dot_376', 116 bytes spill stores, 116 bytes spill loads\n",
      "\n"
     ]
    },
    {
     "name": "stdout",
     "output_type": "stream",
     "text": [
      "\u001b[1m 41/252\u001b[0m \u001b[32m━━━\u001b[0m\u001b[37m━━━━━━━━━━━━━━━━━\u001b[0m \u001b[1m0s\u001b[0m 4ms/step - loss: 6379.6089 - mae: 33.2263"
     ]
    },
    {
     "name": "stderr",
     "output_type": "stream",
     "text": [
      "I0000 00:00:1755707906.171984  108665 device_compiler.h:196] Compiled cluster using XLA!  This line is logged at most once for the lifetime of the process.\n"
     ]
    },
    {
     "name": "stdout",
     "output_type": "stream",
     "text": [
      "\u001b[1m241/252\u001b[0m \u001b[32m━━━━━━━━━━━━━━━━━━━\u001b[0m\u001b[37m━\u001b[0m \u001b[1m0s\u001b[0m 4ms/step - loss: 3764.3311 - mae: 24.4070"
     ]
    },
    {
     "name": "stderr",
     "output_type": "stream",
     "text": [
      "2025-08-20 22:08:27.277040: I external/local_xla/xla/service/gpu/autotuning/dot_search_space.cc:208] All configs were filtered out because none of them sufficiently match the hints. Maybe the hints set does not contain a good representative set of valid configs? Working around this by using the full hints set instead.\n",
      "2025-08-20 22:08:27.277120: I external/local_xla/xla/service/gpu/autotuning/dot_search_space.cc:208] All configs were filtered out because none of them sufficiently match the hints. Maybe the hints set does not contain a good representative set of valid configs? Working around this by using the full hints set instead.\n",
      "2025-08-20 22:08:27.277136: I external/local_xla/xla/service/gpu/autotuning/dot_search_space.cc:208] All configs were filtered out because none of them sufficiently match the hints. Maybe the hints set does not contain a good representative set of valid configs? Working around this by using the full hints set instead.\n",
      "2025-08-20 22:08:27.277155: I external/local_xla/xla/service/gpu/autotuning/dot_search_space.cc:208] All configs were filtered out because none of them sufficiently match the hints. Maybe the hints set does not contain a good representative set of valid configs? Working around this by using the full hints set instead.\n",
      "2025-08-20 22:08:28.388361: I external/local_xla/xla/stream_executor/cuda/subprocess_compilation.cc:346] ptxas warning : Registers are spilled to local memory in function 'gemm_fusion_dot_897', 8 bytes spill stores, 8 bytes spill loads\n",
      "\n",
      "2025-08-20 22:08:28.619027: I external/local_xla/xla/stream_executor/cuda/subprocess_compilation.cc:346] ptxas warning : Registers are spilled to local memory in function 'gemm_fusion_dot_369', 116 bytes spill stores, 116 bytes spill loads\n",
      "\n",
      "2025-08-20 22:08:28.710922: I external/local_xla/xla/stream_executor/cuda/subprocess_compilation.cc:346] ptxas warning : Registers are spilled to local memory in function 'gemm_fusion_dot_673', 12 bytes spill stores, 12 bytes spill loads\n",
      "\n",
      "2025-08-20 22:08:28.776522: I external/local_xla/xla/stream_executor/cuda/subprocess_compilation.cc:346] ptxas warning : Registers are spilled to local memory in function 'gemm_fusion_dot_376', 116 bytes spill stores, 116 bytes spill loads\n",
      "\n",
      "2025-08-20 22:08:29.241103: I external/local_xla/xla/stream_executor/cuda/subprocess_compilation.cc:346] ptxas warning : Registers are spilled to local memory in function 'gemm_fusion_dot_376', 12 bytes spill stores, 12 bytes spill loads\n",
      "\n",
      "2025-08-20 22:08:29.348363: I external/local_xla/xla/stream_executor/cuda/subprocess_compilation.cc:346] ptxas warning : Registers are spilled to local memory in function 'gemm_fusion_dot_642', 580 bytes spill stores, 580 bytes spill loads\n",
      "\n",
      "2025-08-20 22:08:29.407987: I external/local_xla/xla/stream_executor/cuda/subprocess_compilation.cc:346] ptxas warning : Registers are spilled to local memory in function 'gemm_fusion_dot_673', 8 bytes spill stores, 8 bytes spill loads\n",
      "\n",
      "2025-08-20 22:08:29.575219: I external/local_xla/xla/stream_executor/cuda/subprocess_compilation.cc:346] ptxas warning : Registers are spilled to local memory in function 'gemm_fusion_dot_642', 16 bytes spill stores, 16 bytes spill loads\n",
      "\n",
      "2025-08-20 22:08:29.622370: I external/local_xla/xla/stream_executor/cuda/subprocess_compilation.cc:346] ptxas warning : Registers are spilled to local memory in function 'gemm_fusion_dot_376', 8 bytes spill stores, 8 bytes spill loads\n",
      "\n"
     ]
    },
    {
     "name": "stdout",
     "output_type": "stream",
     "text": [
      "\u001b[1m252/252\u001b[0m \u001b[32m━━━━━━━━━━━━━━━━━━━━\u001b[0m\u001b[37m\u001b[0m \u001b[1m0s\u001b[0m 19ms/step - loss: 3679.7734 - mae: 24.0489"
     ]
    },
    {
     "name": "stderr",
     "output_type": "stream",
     "text": [
      "2025-08-20 22:08:31.752660: I external/local_xla/xla/service/gpu/autotuning/dot_search_space.cc:208] All configs were filtered out because none of them sufficiently match the hints. Maybe the hints set does not contain a good representative set of valid configs? Working around this by using the full hints set instead.\n",
      "2025-08-20 22:08:31.752731: I external/local_xla/xla/service/gpu/autotuning/dot_search_space.cc:208] All configs were filtered out because none of them sufficiently match the hints. Maybe the hints set does not contain a good representative set of valid configs? Working around this by using the full hints set instead.\n",
      "2025-08-20 22:08:32.775666: I external/local_xla/xla/stream_executor/cuda/subprocess_compilation.cc:346] ptxas warning : Registers are spilled to local memory in function 'gemm_fusion_dot_184', 12 bytes spill stores, 12 bytes spill loads\n",
      "\n",
      "2025-08-20 22:08:32.847146: I external/local_xla/xla/stream_executor/cuda/subprocess_compilation.cc:346] ptxas warning : Registers are spilled to local memory in function 'gemm_fusion_dot_184', 116 bytes spill stores, 116 bytes spill loads\n",
      "\n",
      "2025-08-20 22:08:32.848154: I external/local_xla/xla/stream_executor/cuda/subprocess_compilation.cc:346] ptxas warning : Registers are spilled to local memory in function 'gemm_fusion_dot_184', 8 bytes spill stores, 8 bytes spill loads\n",
      "\n",
      "2025-08-20 22:08:33.132546: I external/local_xla/xla/stream_executor/cuda/subprocess_compilation.cc:346] ptxas warning : Registers are spilled to local memory in function 'gemm_fusion_dot_177', 116 bytes spill stores, 116 bytes spill loads\n",
      "\n"
     ]
    },
    {
     "name": "stdout",
     "output_type": "stream",
     "text": [
      "\u001b[1m252/252\u001b[0m \u001b[32m━━━━━━━━━━━━━━━━━━━━\u001b[0m\u001b[37m\u001b[0m \u001b[1m12s\u001b[0m 29ms/step - loss: 1800.6350 - mae: 16.0608 - val_loss: 412.9220 - val_mae: 8.7112\n",
      "Epoch 2/10\n",
      "\u001b[1m252/252\u001b[0m \u001b[32m━━━━━━━━━━━━━━━━━━━━\u001b[0m\u001b[37m\u001b[0m \u001b[1m2s\u001b[0m 6ms/step - loss: 384.9017 - mae: 8.3798 - val_loss: 340.1244 - val_mae: 7.8080\n",
      "Epoch 3/10\n",
      "\u001b[1m252/252\u001b[0m \u001b[32m━━━━━━━━━━━━━━━━━━━━\u001b[0m\u001b[37m\u001b[0m \u001b[1m3s\u001b[0m 13ms/step - loss: 329.6041 - mae: 7.6817 - val_loss: 302.8270 - val_mae: 7.4104\n",
      "Epoch 4/10\n",
      "\u001b[1m252/252\u001b[0m \u001b[32m━━━━━━━━━━━━━━━━━━━━\u001b[0m\u001b[37m\u001b[0m \u001b[1m2s\u001b[0m 6ms/step - loss: 295.7135 - mae: 7.2730 - val_loss: 280.9076 - val_mae: 7.1152\n",
      "Epoch 5/10\n",
      "\u001b[1m252/252\u001b[0m \u001b[32m━━━━━━━━━━━━━━━━━━━━\u001b[0m\u001b[37m\u001b[0m \u001b[1m2s\u001b[0m 6ms/step - loss: 278.8721 - mae: 7.0833 - val_loss: 269.4054 - val_mae: 6.9784\n",
      "Epoch 6/10\n",
      "\u001b[1m252/252\u001b[0m \u001b[32m━━━━━━━━━━━━━━━━━━━━\u001b[0m\u001b[37m\u001b[0m \u001b[1m2s\u001b[0m 6ms/step - loss: 267.4968 - mae: 6.9578 - val_loss: 258.5388 - val_mae: 6.8234\n",
      "Epoch 7/10\n",
      "\u001b[1m252/252\u001b[0m \u001b[32m━━━━━━━━━━━━━━━━━━━━\u001b[0m\u001b[37m\u001b[0m \u001b[1m2s\u001b[0m 6ms/step - loss: 258.7244 - mae: 6.8357 - val_loss: 256.1251 - val_mae: 6.8992\n",
      "Epoch 8/10\n",
      "\u001b[1m252/252\u001b[0m \u001b[32m━━━━━━━━━━━━━━━━━━━━\u001b[0m\u001b[37m\u001b[0m \u001b[1m2s\u001b[0m 6ms/step - loss: 250.9061 - mae: 6.7640 - val_loss: 246.1657 - val_mae: 6.6302\n",
      "Epoch 9/10\n",
      "\u001b[1m252/252\u001b[0m \u001b[32m━━━━━━━━━━━━━━━━━━━━\u001b[0m\u001b[37m\u001b[0m \u001b[1m2s\u001b[0m 6ms/step - loss: 246.0662 - mae: 6.7206 - val_loss: 237.9697 - val_mae: 6.6223\n",
      "Epoch 10/10\n",
      "\u001b[1m252/252\u001b[0m \u001b[32m━━━━━━━━━━━━━━━━━━━━\u001b[0m\u001b[37m\u001b[0m \u001b[1m2s\u001b[0m 6ms/step - loss: 239.5678 - mae: 6.6437 - val_loss: 234.8806 - val_mae: 6.5835\n"
     ]
    }
   ],
   "source": [
    "model = build_ann_model()  # Build model once\n",
    "history = model.fit(train_inputs, y_train.values,\n",
    "                    validation_data=(val_inputs, y_val.values),\n",
    "                    epochs=10, batch_size=1024)"
   ]
  },
  {
   "cell_type": "markdown",
   "id": "c1b45bef",
   "metadata": {},
   "source": [
    "### Evaluate Model Performance"
   ]
  },
  {
   "cell_type": "code",
   "execution_count": 73,
   "id": "e497f5af",
   "metadata": {},
   "outputs": [
    {
     "name": "stdout",
     "output_type": "stream",
     "text": [
      "\u001b[1m2014/2014\u001b[0m \u001b[32m━━━━━━━━━━━━━━━━━━━━\u001b[0m\u001b[37m\u001b[0m \u001b[1m6s\u001b[0m 3ms/step\n",
      "Mean Absolute Error (MAE): 6.583485126495361\n",
      "Mean Squared Error (MSE): 234.8805694580078\n",
      "Root Mean Squared Error (RMSE): 15.325813826939429\n",
      "R-squared (R2): 0.9581524133682251\n"
     ]
    }
   ],
   "source": [
    "from sklearn.metrics import mean_absolute_error, mean_squared_error, r2_score\n",
    "\n",
    "# Make predictions on validation set\n",
    "val_preds = model.predict(val_inputs)\n",
    "\n",
    "# Calculate r2_score, MAE, MSE and RMSE\n",
    "mae = mean_absolute_error(y_val, val_preds)\n",
    "mse = mean_squared_error(y_val, val_preds)\n",
    "rmse = np.sqrt(mse)\n",
    "r2 = r2_score(y_val, val_preds)\n",
    "\n",
    "print(f\"Mean Absolute Error (MAE): {mae}\")\n",
    "print(f\"Mean Squared Error (MSE): {mse}\")\n",
    "print(f\"Root Mean Squared Error (RMSE): {rmse}\")\n",
    "print(f\"R-squared (R2): {r2}\")"
   ]
  },
  {
   "cell_type": "markdown",
   "id": "f2a1dd49",
   "metadata": {},
   "source": [
    "Insights\n",
    "\n",
    "- MAE (Mean Absolute Error): 6.58\n",
    "    - On average, the model’s prediction deviates from the actual hourly ride count by less than 7 rides per zone-hour.\n",
    "\n",
    "- MSE: 234.88\n",
    "    - Reflects the average squared difference; low values confirm stable, non-explosive errors.\n",
    "\n",
    "- RMSE: 15.33\n",
    "    - The standard deviation of the residuals (prediction errors) is modest relative to observed demand.\n",
    "\n",
    "- R-squared (R²): 0.958\n",
    "    - The model explains over 95% of the variance in the validation set, indicating highly accurate predictions for most cases."
   ]
  },
  {
   "cell_type": "markdown",
   "id": "98b63c88",
   "metadata": {},
   "source": [
    "### Plot Training vs Validation Loss"
   ]
  },
  {
   "cell_type": "code",
   "execution_count": 47,
   "id": "3fd8d7a9",
   "metadata": {},
   "outputs": [
    {
     "data": {
      "image/png": "[encoded data removed]",
      "text/plain": [
       "<Figure size 800x500 with 1 Axes>"
      ]
     },
     "metadata": {},
     "output_type": "display_data"
    }
   ],
   "source": [
    "import matplotlib.pyplot as plt\n",
    "plt.figure(figsize = (8, 5))\n",
    "plt.plot(history.history['loss'], label = 'Train Loss')\n",
    "plt.plot(history.history['val_loss'], label = 'Validation Loss')\n",
    "plt.xlabel('Epochs')\n",
    "plt.ylabel('Loss (MSE)')\n",
    "plt.title('Training vs Validation Loss')\n",
    "plt.legend()\n",
    "plt.show()"
   ]
  },
  {
   "cell_type": "markdown",
   "id": "c275aac2",
   "metadata": {},
   "source": [
    "Insights\n",
    "\n",
    "- The training and validation MSE (Mean Squared Error) both decrease sharply in the first few epochs and then plateau, showing a healthy convergence with no significant overfitting.\n",
    "\n",
    "- The small, consistent gap between training and validation losses indicates the model generalizes well from training to unseen validation data.\n",
    "\n",
    "- This suggests effective learning and appropriate complexity for your ANN model."
   ]
  },
  {
   "cell_type": "markdown",
   "id": "f763ff43",
   "metadata": {},
   "source": [
    "### Model Diagnostics & Interpretation"
   ]
  },
  {
   "cell_type": "markdown",
   "id": "2ecedb8d",
   "metadata": {},
   "source": [
    "####  Error Analysis by Key Dimensions\n",
    "Analyze prediction errors grouped by hour, day of week, and zones."
   ]
  },
  {
   "cell_type": "code",
   "execution_count": 54,
   "id": "ecfd32a9",
   "metadata": {},
   "outputs": [],
   "source": [
    "val_df = df.loc[X_val.index].copy()\n",
    "val_df['predicted_ride_count'] = val_preds.flatten()\n",
    "val_df['error'] = val_df['ride_count'] - val_df['predicted_ride_count']\n",
    "\n",
    "# Group by hour\n",
    "hour_errors = val_df.groupby('hour')['error'].mean()\n",
    "hour_abs_errors = val_df.groupby('hour')['error'].apply(lambda x: x.abs().mean())\n",
    "\n",
    "# Group by day of week\n",
    "dow_errors = val_df.groupby('day_of_week')['error'].mean()\n",
    "dow_abs_errors = val_df.groupby('day_of_week')['error'].apply(lambda x: x.abs().mean())\n",
    "\n",
    "# Group by PULocationID (top zones only)\n",
    "top_zones = val_df['PULocationID'].value_counts().nlargest(10).index\n",
    "zone_errors = val_df[val_df['PULocationID'].isin(top_zones)].groupby('PULocationID')['error'].mean()\n",
    "zone_abs_errors = val_df[val_df['PULocationID'].isin(top_zones)].groupby('PULocationID')['error'].apply(lambda x: x.abs().mean())"
   ]
  },
  {
   "cell_type": "markdown",
   "id": "4351629f",
   "metadata": {},
   "source": [
    "#### Visualize Errors"
   ]
  },
  {
   "cell_type": "code",
   "execution_count": 57,
   "id": "fd41347a",
   "metadata": {},
   "outputs": [
    {
     "data": {
      "image/png": "[encoded data removed]",
      "text/plain": [
       "<Figure size 1000x1200 with 3 Axes>"
      ]
     },
     "metadata": {},
     "output_type": "display_data"
    }
   ],
   "source": [
    "fig, axs = plt.subplots(3, 1, figsize = (10, 12))\n",
    "\n",
    "axs[0].bar(hour_errors.index, hour_abs_errors)\n",
    "axs[0].set_title('Mean Absolute Error by Hour of Day')\n",
    "axs[0].set_xlabel('Hour')\n",
    "axs[0].set_ylabel('Mean Absolute Error')\n",
    "\n",
    "axs[1].bar(dow_errors.index, dow_abs_errors)\n",
    "axs[1].set_title('Mean Absolute Error by Day of Week')\n",
    "axs[1].set_xlabel('Day of Week')\n",
    "axs[1].set_ylabel('Mean Absolute Error')\n",
    "\n",
    "axs[2].bar(zone_errors.index, zone_abs_errors)\n",
    "axs[2].set_title('Mean Absolute Error by PULocationID (Top Zones)')\n",
    "axs[2].set_xlabel('PULocationID')\n",
    "axs[2].set_ylabel('Mean Absolute Error')\n",
    "\n",
    "plt.tight_layout()\n",
    "plt.show()"
   ]
  },
  {
   "cell_type": "markdown",
   "id": "7581074b",
   "metadata": {},
   "source": [
    "### Insights\n",
    "\n",
    "\n",
    "- <b>Mean Absolute Error by Hour of Day</b>\n",
    "    - The model performs best in the early morning through midday, with MAE as low as 3–5.\n",
    "\n",
    "    - Error increases steadily later in the day, peaking in the late evening (20:00–23:00) with MAE around 10–12.\n",
    "\n",
    "    - Evening periods may have more unpredictable demand surges or outlier events, making them harder for the model to predict accurately.\n",
    "\n",
    "\n",
    "- <b>Mean Absolute Error by Day of Week</b>\n",
    "    - MAE is relatively stable (5–7) across all days, with a slight uptick late in the week (Fridays and Saturdays).\n",
    "\n",
    "    - Weekly trends are learned well, but the minor increase suggests slightly more irregular demand on weekends.\n",
    "\n",
    "\n",
    "- <b>Mean Absolute Error by Pickup Zone (Top Zones Only)</b>\n",
    "    - Significant variation in MAE between zones, ranging from under 10 to about 40 in certain high-traffic locations.\n",
    "\n",
    "    - Higher error in some zones (e.g., zones with IDs around 125–150) implies these are either very busy, structurally different from the rest, or subject to special events or conditions not captured by current features.\n",
    "\n",
    "    - Opportunity to further improve model by incorporating zone-specific features or external event data."
   ]
  },
  {
   "cell_type": "markdown",
   "id": "ccd1175d",
   "metadata": {},
   "source": [
    "### Fine-Tuning and Model Improvement"
   ]
  },
  {
   "cell_type": "markdown",
   "id": "21f8b71f",
   "metadata": {},
   "source": [
    "#### Define a Model-Building Function with Hyperparameters"
   ]
  },
  {
   "cell_type": "code",
   "execution_count": 60,
   "id": "9b2cc221",
   "metadata": {},
   "outputs": [],
   "source": [
    "import keras_tuner as kt\n",
    "import tensorflow as tf\n",
    "from tensorflow.keras.layers import Input, Embedding, Dense, Flatten, Concatenate, Dropout\n",
    "from tensorflow.keras.models import Model\n",
    "from tensorflow.keras.optimizers import Adam\n",
    "\n",
    "def build_model(hp):\n",
    "    inputs = {}\n",
    "    embeddings = []\n",
    "\n",
    "    cat_features = ['PULocationID', 'weathercode', 'hour', 'day_of_week', 'month']\n",
    "\n",
    "    # Tune embedding sizes between 2 and 50\n",
    "    for col in cat_features:\n",
    "        inputs[col] = Input(shape = (1, ), name = col)\n",
    "        emb_dim = hp.Int(f\"emb_dim{col}\", min_value = 2, max_value = 50, step = 2)\n",
    "        emb = Embedding(input_dim = df[col].nunique() + 1, output_dim = emb_dim, name = f\"emn_{col}\")(inputs[col])\n",
    "        embeddings.append(Flatten()(emb))\n",
    "\n",
    "    # Numerical features\n",
    "    numeric_cols = ['is_weekend', 'is_holiday', 'temperature_2m', 'precipitation',\n",
    "                    'ride_count_lag_1', 'ride_count_lag_24', 'ride_count_lag_168',\n",
    "                    'ride_count_roll_mean_3', 'ride_count_roll_std_3']\n",
    "    numeric_inputs = Input(shape = (len(numeric_cols), ), name = 'numeric_inputs')\n",
    "    embeddings.append(numeric_inputs)\n",
    "\n",
    "    x = Concatenate()(embeddings)\n",
    "\n",
    "    # Tune number of dense layers: 1 to 3\n",
    "    for i in range(hp.Int('num_dense_layers', 1, 3)):\n",
    "        units = hp.Int(f\"dense_units_{i}\", min_value = 32, max_value = 256, step = 32)\n",
    "\n",
    "        x = Dense(units, activation = 'relu')(x)\n",
    "\n",
    "        # tune Dropout\n",
    "        if hp.Boolean(f\"dropout_{i}\"):\n",
    "            rate = hp.Float(f\"dropout_rate{i}\", 0.1, 0.5, step = 0.1)\n",
    "            x = Dropout(rate)(x)\n",
    "    \n",
    "    output = Dense(1, activation = 'linear')(x)\n",
    "\n",
    "    model = Model(inputs = [*inputs.values(), numeric_inputs],  outputs = output)\n",
    "\n",
    "    lr = hp.Float('learning_rate', 1e-4, 1e-2, sampling = 'log')\n",
    "    model.compile(optimizer = Adam(learning_rate = lr), loss = 'mse', metrics = ['mae'])\n",
    "\n",
    "    return model"
   ]
  },
  {
   "cell_type": "markdown",
   "id": "b3e54230",
   "metadata": {},
   "source": [
    "#### Define the Tuner and Start Search\n"
   ]
  },
  {
   "cell_type": "code",
   "execution_count": 61,
   "id": "ffcadf16",
   "metadata": {},
   "outputs": [
    {
     "name": "stdout",
     "output_type": "stream",
     "text": [
      "Trial 20 Complete [00h 00m 32s]\n",
      "val_loss: 1638.4034423828125\n",
      "\n",
      "Best val_loss So Far: 175.1700897216797\n",
      "Total elapsed time: 00h 09m 28s\n"
     ]
    }
   ],
   "source": [
    "tuner = kt.RandomSearch(\n",
    "    build_model,\n",
    "    objective = 'val_loss',\n",
    "    max_trials = 20,\n",
    "    executions_per_trial = 1, \n",
    "    directory = 'tuner_dir',\n",
    "    project_name = 'taxi_demand_forecasting'\n",
    ")\n",
    "\n",
    "# Run search (adjust epochs and batch size as needed)\n",
    "tuner.search(train_inputs, y_train.values, validation_data= (val_inputs, y_val.values), epochs = 10, batch_size = 1024)"
   ]
  },
  {
   "cell_type": "markdown",
   "id": "922c7fa3",
   "metadata": {},
   "source": [
    "#### Retrieve the Best Model and Hyperparameters"
   ]
  },
  {
   "cell_type": "code",
   "execution_count": 64,
   "id": "4b056a18",
   "metadata": {},
   "outputs": [
    {
     "name": "stdout",
     "output_type": "stream",
     "text": [
      "Best embedding sizes and architecture found:\n",
      "emb_dimPULocationID: 48\n",
      "emb_dimweathercode: 2\n",
      "emb_dimhour: 20\n",
      "emb_dimday_of_week: 10\n",
      "emb_dimmonth: 20\n",
      "num_dense_layers: 2\n",
      "dense_units_0: 192\n",
      "dropout_0: False\n",
      "learning_rate: 0.0035065850163276276\n",
      "dense_units_1: 32\n",
      "dropout_1: False\n",
      "dense_units_2: 192\n",
      "dropout_2: True\n",
      "dropout_rate1: 0.2\n",
      "dropout_rate2: 0.2\n",
      "dropout_rate0: 0.30000000000000004\n"
     ]
    }
   ],
   "source": [
    "best_model = tuner.get_best_models(num_models = 1)[0]\n",
    "best_hps = tuner.get_best_hyperparameters(num_trials = 1)[0]\n",
    "\n",
    "print(\"Best embedding sizes and architecture found:\")\n",
    "for hp_name, hp_value in best_hps.values.items():\n",
    "    print(f\"{hp_name}: {hp_value}\")"
   ]
  },
  {
   "cell_type": "markdown",
   "id": "d014b294",
   "metadata": {},
   "source": [
    "### Test the Best Model and Validate Improvements"
   ]
  },
  {
   "cell_type": "markdown",
   "id": "894b7c59",
   "metadata": {},
   "source": [
    "#### Evaluate the Best Model on Validation Set"
   ]
  },
  {
   "cell_type": "code",
   "execution_count": 77,
   "id": "05644e63",
   "metadata": {},
   "outputs": [
    {
     "name": "stdout",
     "output_type": "stream",
     "text": [
      "\u001b[1m2014/2014\u001b[0m \u001b[32m━━━━━━━━━━━━━━━━━━━━\u001b[0m\u001b[37m\u001b[0m \u001b[1m4s\u001b[0m 2ms/step\n",
      "Mean Absolute Error (MAE): 5.697754383087158\n",
      "Mean Squared Error (MSE): 175.17007446289062\n",
      "Root Mean Squared Error (RMSE): 13.235183204734668\n",
      "R-squared (R2): 0.9687907695770264\n"
     ]
    }
   ],
   "source": [
    "val_predictions = best_model.predict(val_inputs)\n",
    "\n",
    "from sklearn.metrics import mean_absolute_error, mean_squared_error, r2_score\n",
    "import numpy as np\n",
    "\n",
    "mae_new = mean_absolute_error(y_val, val_predictions)\n",
    "mse_new = mean_squared_error(y_val, val_predictions)\n",
    "rmse_new = np.sqrt(mse_new)\n",
    "r2_new = r2_score(y_val, val_predictions)\n",
    "\n",
    "print(f\"Mean Absolute Error (MAE): {mae_new}\")\n",
    "print(f\"Mean Squared Error (MSE): {mse_new}\")\n",
    "print(f\"Root Mean Squared Error (RMSE): {rmse_new}\")\n",
    "print(f\"R-squared (R2): {r2_new}\")"
   ]
  },
  {
   "cell_type": "markdown",
   "id": "1cc24f94",
   "metadata": {},
   "source": [
    "#### Compare best model with Iniitial Model"
   ]
  },
  {
   "cell_type": "code",
   "execution_count": 78,
   "id": "2c8d3d49",
   "metadata": {},
   "outputs": [],
   "source": [
    "# Make a dataframe to compare with initial model\n",
    "comparison_df = pd.DataFrame({\n",
    "    'Metric': ['MAE', 'MSE', 'RMSE', 'R2'],\n",
    "    'Initial Model': [mae, mse, rmse, r2],\n",
    "    'Tuned Model': [mae_new, mse_new, rmse_new, r2_new]\n",
    "})"
   ]
  },
  {
   "cell_type": "code",
   "execution_count": 79,
   "id": "a20c708e",
   "metadata": {},
   "outputs": [
    {
     "data": {
      "text/html": [
       "<div>\n",
       "<style scoped>\n",
       "    .dataframe tbody tr th:only-of-type {\n",
       "        vertical-align: middle;\n",
       "    }\n",
       "\n",
       "    .dataframe tbody tr th {\n",
       "        vertical-align: top;\n",
       "    }\n",
       "\n",
       "    .dataframe thead th {\n",
       "        text-align: right;\n",
       "    }\n",
       "</style>\n",
       "<table border=\"1\" class=\"dataframe\">\n",
       "  <thead>\n",
       "    <tr style=\"text-align: right;\">\n",
       "      <th></th>\n",
       "      <th>Metric</th>\n",
       "      <th>Initial Model</th>\n",
       "      <th>Tuned Model</th>\n",
       "    </tr>\n",
       "  </thead>\n",
       "  <tbody>\n",
       "    <tr>\n",
       "      <th>0</th>\n",
       "      <td>MAE</td>\n",
       "      <td>6.583485</td>\n",
       "      <td>5.697754</td>\n",
       "    </tr>\n",
       "    <tr>\n",
       "      <th>1</th>\n",
       "      <td>MSE</td>\n",
       "      <td>234.880569</td>\n",
       "      <td>175.170074</td>\n",
       "    </tr>\n",
       "    <tr>\n",
       "      <th>2</th>\n",
       "      <td>RMSE</td>\n",
       "      <td>15.325814</td>\n",
       "      <td>13.235183</td>\n",
       "    </tr>\n",
       "    <tr>\n",
       "      <th>3</th>\n",
       "      <td>R2</td>\n",
       "      <td>0.958152</td>\n",
       "      <td>0.968791</td>\n",
       "    </tr>\n",
       "  </tbody>\n",
       "</table>\n",
       "</div>"
      ],
      "text/plain": [
       "  Metric  Initial Model  Tuned Model\n",
       "0    MAE       6.583485     5.697754\n",
       "1    MSE     234.880569   175.170074\n",
       "2   RMSE      15.325814    13.235183\n",
       "3     R2       0.958152     0.968791"
      ]
     },
     "execution_count": 79,
     "metadata": {},
     "output_type": "execute_result"
    }
   ],
   "source": [
    "comparison_df"
   ]
  },
  {
   "cell_type": "markdown",
   "id": "2b7aa461",
   "metadata": {},
   "source": [
    "### Visualize Comparison"
   ]
  },
  {
   "cell_type": "code",
   "execution_count": 80,
   "id": "65c35302",
   "metadata": {},
   "outputs": [
    {
     "data": {
      "image/png": "[encoded data removed]",
      "text/plain": [
       "<Figure size 640x480 with 1 Axes>"
      ]
     },
     "metadata": {},
     "output_type": "display_data"
    }
   ],
   "source": [
    "metrics = ['MAE', 'RMSE']\n",
    "initial_scores = comparison_df[comparison_df['Metric'].isin(metrics)]['Initial Model'].values\n",
    "tuned_scores = comparison_df[comparison_df['Metric'].isin(metrics)]['Tuned Model'].values\n",
    "\n",
    "x = range(len(metrics))\n",
    "plt.bar(x, initial_scores, width = 0.4, label = 'Initial Model', align = 'center')\n",
    "plt.bar([p + 0.4 for p in x], tuned_scores, width = 0.4, label = 'Tuned Model', align = 'center')\n",
    "plt.xticks([p + 0.2 for p in x], metrics)\n",
    "plt.ylabel('Error')\n",
    "plt.title('Performance Comparison on Validation Set')\n",
    "plt.legend()\n",
    "plt.show()"
   ]
  },
  {
   "cell_type": "markdown",
   "id": "89d84df2",
   "metadata": {},
   "source": [
    "### Retrain Model with Best Hyperparameters on Full Dataset"
   ]
  },
  {
   "cell_type": "markdown",
   "id": "659443ae",
   "metadata": {},
   "source": [
    "#### Combine Training and Validation Data"
   ]
  },
  {
   "cell_type": "code",
   "execution_count": 81,
   "id": "42da7196",
   "metadata": {},
   "outputs": [],
   "source": [
    "full_X = pd.concat([X_train, X_val], ignore_index=True)\n",
    "full_y = pd.concat([y_train, y_val], ignore_index=True) \n",
    "\n",
    "full_inputs = create_model_inputs(full_X)"
   ]
  },
  {
   "cell_type": "markdown",
   "id": "3a2a29ac",
   "metadata": {},
   "source": [
    "#### Rebuild Model with Best Hyperparameters"
   ]
  },
  {
   "cell_type": "markdown",
   "id": "11a40142",
   "metadata": {},
   "source": [
    "- Best Parameters:\n",
    "\n",
    "    - Best embedding sizes and architecture found:\n",
    "    - emb_dimPULocationID: 48\n",
    "    - emb_dimweathercode: 2\n",
    "    - emb_dimhour: 20\n",
    "    - emb_dimday_of_week: 10\n",
    "    -emb_dimmonth: 20\n",
    "    - num_dense_layers: 2\n",
    "    - dense_units_0: 192\n",
    "    - dropout_0: False\n",
    "    - learning_rate: 0.0035065850163276276\n",
    "    - dense_units_1: 32\n",
    "    - dropout_1: False\n",
    "    - dense_units_2: 192\n",
    "    - dropout_2: True\n",
    "    - dropout_rate1: 0.2\n",
    "    - dropout_rate2: 0.2\n",
    "    - dropout_rate0: 0.30000000000000004"
   ]
  },
  {
   "cell_type": "code",
   "execution_count": 82,
   "id": "62c354b9",
   "metadata": {},
   "outputs": [],
   "source": [
    "best_hps = tuner.get_best_hyperparameters(num_trials = 1)[0]"
   ]
  },
  {
   "cell_type": "code",
   "execution_count": 92,
   "id": "67b2c5ca",
   "metadata": {},
   "outputs": [],
   "source": [
    "def build_final_model(best_hps):\n",
    "    inputs = {}\n",
    "    embeddings = []\n",
    "\n",
    "    cat_features = ['PULocationID', 'weathercode', 'hour', 'day_of_week', 'month']\n",
    "\n",
    "    for col in cat_features:\n",
    "        inputs[col] = Input(shape = (1,), name = col)\n",
    "        emb_dim = best_hps.get(f\"emb_dim{col}\")\n",
    "        emb = Embedding(input_dim = df[col].nunique() + 1, output_dim = emb_dim, name = f\"emb_{col}\")(inputs[col])\n",
    "        embeddings.append(Flatten()(emb))\n",
    "\n",
    "    numeric_cols = ['is_weekend', 'is_holiday', 'temperature_2m', 'precipitation',\n",
    "                    'ride_count_lag_1', 'ride_count_lag_24', 'ride_count_lag_168',\n",
    "                    'ride_count_roll_mean_3', 'ride_count_roll_std_3']\n",
    "    numeric_inputs = Input(shape = (len(numeric_cols), ), name = 'numeric_inputs')\n",
    "    embeddings.append(numeric_inputs)\n",
    "    \n",
    "    x = Concatenate()(embeddings)\n",
    "    num_dense_layers = best_hps.get('num_dense_layers')\n",
    "    for i in range(num_dense_layers):\n",
    "        units = best_hps.get(f'dense_units_{i}')\n",
    "        x = Dense(units, activation = 'relu')(x)\n",
    "        if best_hps.get(f'dropout_{i}'):\n",
    "            rate = best_hps.get(f'dropout_rate{i}')\n",
    "            x = Dropout(rate)(x)\n",
    "\n",
    "    output = Dense(1, activation = 'linear')(x)\n",
    "\n",
    "    model = Model(inputs = [*inputs.values(), numeric_inputs], outputs = output)\n",
    "\n",
    "    lr = best_hps.get('learning_rate')\n",
    "    model.compile(optimizer = Adam(learning_rate = lr), loss = 'mse', metrics = ['mae'])\n",
    "\n",
    "    return model"
   ]
  },
  {
   "cell_type": "code",
   "execution_count": 94,
   "id": "686bb707",
   "metadata": {},
   "outputs": [
    {
     "data": {
      "text/html": [
       "<pre style=\"white-space:pre;overflow-x:auto;line-height:normal;font-family:Menlo,'DejaVu Sans Mono',consolas,'Courier New',monospace\"><span style=\"font-weight: bold\">Model: \"functional_2\"</span>\n",
       "</pre>\n"
      ],
      "text/plain": [
       "\u001b[1mModel: \"functional_2\"\u001b[0m\n"
      ]
     },
     "metadata": {},
     "output_type": "display_data"
    },
    {
     "data": {
      "text/html": [
       "<pre style=\"white-space:pre;overflow-x:auto;line-height:normal;font-family:Menlo,'DejaVu Sans Mono',consolas,'Courier New',monospace\">┏━━━━━━━━━━━━━━━━━━━━━┳━━━━━━━━━━━━━━━━━━━┳━━━━━━━━━━━━┳━━━━━━━━━━━━━━━━━━━┓\n",
       "┃<span style=\"font-weight: bold\"> Layer (type)        </span>┃<span style=\"font-weight: bold\"> Output Shape      </span>┃<span style=\"font-weight: bold\">    Param # </span>┃<span style=\"font-weight: bold\"> Connected to      </span>┃\n",
       "┡━━━━━━━━━━━━━━━━━━━━━╇━━━━━━━━━━━━━━━━━━━╇━━━━━━━━━━━━╇━━━━━━━━━━━━━━━━━━━┩\n",
       "│ PULocationID        │ (<span style=\"color: #00d7ff; text-decoration-color: #00d7ff\">None</span>, <span style=\"color: #00af00; text-decoration-color: #00af00\">1</span>)         │          <span style=\"color: #00af00; text-decoration-color: #00af00\">0</span> │ -                 │\n",
       "│ (<span style=\"color: #0087ff; text-decoration-color: #0087ff\">InputLayer</span>)        │                   │            │                   │\n",
       "├─────────────────────┼───────────────────┼────────────┼───────────────────┤\n",
       "│ weathercode         │ (<span style=\"color: #00d7ff; text-decoration-color: #00d7ff\">None</span>, <span style=\"color: #00af00; text-decoration-color: #00af00\">1</span>)         │          <span style=\"color: #00af00; text-decoration-color: #00af00\">0</span> │ -                 │\n",
       "│ (<span style=\"color: #0087ff; text-decoration-color: #0087ff\">InputLayer</span>)        │                   │            │                   │\n",
       "├─────────────────────┼───────────────────┼────────────┼───────────────────┤\n",
       "│ hour (<span style=\"color: #0087ff; text-decoration-color: #0087ff\">InputLayer</span>)   │ (<span style=\"color: #00d7ff; text-decoration-color: #00d7ff\">None</span>, <span style=\"color: #00af00; text-decoration-color: #00af00\">1</span>)         │          <span style=\"color: #00af00; text-decoration-color: #00af00\">0</span> │ -                 │\n",
       "├─────────────────────┼───────────────────┼────────────┼───────────────────┤\n",
       "│ day_of_week         │ (<span style=\"color: #00d7ff; text-decoration-color: #00d7ff\">None</span>, <span style=\"color: #00af00; text-decoration-color: #00af00\">1</span>)         │          <span style=\"color: #00af00; text-decoration-color: #00af00\">0</span> │ -                 │\n",
       "│ (<span style=\"color: #0087ff; text-decoration-color: #0087ff\">InputLayer</span>)        │                   │            │                   │\n",
       "├─────────────────────┼───────────────────┼────────────┼───────────────────┤\n",
       "│ month (<span style=\"color: #0087ff; text-decoration-color: #0087ff\">InputLayer</span>)  │ (<span style=\"color: #00d7ff; text-decoration-color: #00d7ff\">None</span>, <span style=\"color: #00af00; text-decoration-color: #00af00\">1</span>)         │          <span style=\"color: #00af00; text-decoration-color: #00af00\">0</span> │ -                 │\n",
       "├─────────────────────┼───────────────────┼────────────┼───────────────────┤\n",
       "│ emb_PULocationID    │ (<span style=\"color: #00d7ff; text-decoration-color: #00d7ff\">None</span>, <span style=\"color: #00af00; text-decoration-color: #00af00\">1</span>, <span style=\"color: #00af00; text-decoration-color: #00af00\">48</span>)     │     <span style=\"color: #00af00; text-decoration-color: #00af00\">12,576</span> │ PULocationID[<span style=\"color: #00af00; text-decoration-color: #00af00\">0</span>][<span style=\"color: #00af00; text-decoration-color: #00af00\">…</span> │\n",
       "│ (<span style=\"color: #0087ff; text-decoration-color: #0087ff\">Embedding</span>)         │                   │            │                   │\n",
       "├─────────────────────┼───────────────────┼────────────┼───────────────────┤\n",
       "│ emb_weathercode     │ (<span style=\"color: #00d7ff; text-decoration-color: #00d7ff\">None</span>, <span style=\"color: #00af00; text-decoration-color: #00af00\">1</span>, <span style=\"color: #00af00; text-decoration-color: #00af00\">2</span>)      │         <span style=\"color: #00af00; text-decoration-color: #00af00\">28</span> │ weathercode[<span style=\"color: #00af00; text-decoration-color: #00af00\">0</span>][<span style=\"color: #00af00; text-decoration-color: #00af00\">0</span>] │\n",
       "│ (<span style=\"color: #0087ff; text-decoration-color: #0087ff\">Embedding</span>)         │                   │            │                   │\n",
       "├─────────────────────┼───────────────────┼────────────┼───────────────────┤\n",
       "│ emb_hour            │ (<span style=\"color: #00d7ff; text-decoration-color: #00d7ff\">None</span>, <span style=\"color: #00af00; text-decoration-color: #00af00\">1</span>, <span style=\"color: #00af00; text-decoration-color: #00af00\">20</span>)     │        <span style=\"color: #00af00; text-decoration-color: #00af00\">500</span> │ hour[<span style=\"color: #00af00; text-decoration-color: #00af00\">0</span>][<span style=\"color: #00af00; text-decoration-color: #00af00\">0</span>]        │\n",
       "│ (<span style=\"color: #0087ff; text-decoration-color: #0087ff\">Embedding</span>)         │                   │            │                   │\n",
       "├─────────────────────┼───────────────────┼────────────┼───────────────────┤\n",
       "│ emb_day_of_week     │ (<span style=\"color: #00d7ff; text-decoration-color: #00d7ff\">None</span>, <span style=\"color: #00af00; text-decoration-color: #00af00\">1</span>, <span style=\"color: #00af00; text-decoration-color: #00af00\">10</span>)     │         <span style=\"color: #00af00; text-decoration-color: #00af00\">80</span> │ day_of_week[<span style=\"color: #00af00; text-decoration-color: #00af00\">0</span>][<span style=\"color: #00af00; text-decoration-color: #00af00\">0</span>] │\n",
       "│ (<span style=\"color: #0087ff; text-decoration-color: #0087ff\">Embedding</span>)         │                   │            │                   │\n",
       "├─────────────────────┼───────────────────┼────────────┼───────────────────┤\n",
       "│ emb_month           │ (<span style=\"color: #00d7ff; text-decoration-color: #00d7ff\">None</span>, <span style=\"color: #00af00; text-decoration-color: #00af00\">1</span>, <span style=\"color: #00af00; text-decoration-color: #00af00\">20</span>)     │         <span style=\"color: #00af00; text-decoration-color: #00af00\">80</span> │ month[<span style=\"color: #00af00; text-decoration-color: #00af00\">0</span>][<span style=\"color: #00af00; text-decoration-color: #00af00\">0</span>]       │\n",
       "│ (<span style=\"color: #0087ff; text-decoration-color: #0087ff\">Embedding</span>)         │                   │            │                   │\n",
       "├─────────────────────┼───────────────────┼────────────┼───────────────────┤\n",
       "│ flatten_20          │ (<span style=\"color: #00d7ff; text-decoration-color: #00d7ff\">None</span>, <span style=\"color: #00af00; text-decoration-color: #00af00\">48</span>)        │          <span style=\"color: #00af00; text-decoration-color: #00af00\">0</span> │ emb_PULocationID… │\n",
       "│ (<span style=\"color: #0087ff; text-decoration-color: #0087ff\">Flatten</span>)           │                   │            │                   │\n",
       "├─────────────────────┼───────────────────┼────────────┼───────────────────┤\n",
       "│ flatten_21          │ (<span style=\"color: #00d7ff; text-decoration-color: #00d7ff\">None</span>, <span style=\"color: #00af00; text-decoration-color: #00af00\">2</span>)         │          <span style=\"color: #00af00; text-decoration-color: #00af00\">0</span> │ emb_weathercode[<span style=\"color: #00af00; text-decoration-color: #00af00\">…</span> │\n",
       "│ (<span style=\"color: #0087ff; text-decoration-color: #0087ff\">Flatten</span>)           │                   │            │                   │\n",
       "├─────────────────────┼───────────────────┼────────────┼───────────────────┤\n",
       "│ flatten_22          │ (<span style=\"color: #00d7ff; text-decoration-color: #00d7ff\">None</span>, <span style=\"color: #00af00; text-decoration-color: #00af00\">20</span>)        │          <span style=\"color: #00af00; text-decoration-color: #00af00\">0</span> │ emb_hour[<span style=\"color: #00af00; text-decoration-color: #00af00\">0</span>][<span style=\"color: #00af00; text-decoration-color: #00af00\">0</span>]    │\n",
       "│ (<span style=\"color: #0087ff; text-decoration-color: #0087ff\">Flatten</span>)           │                   │            │                   │\n",
       "├─────────────────────┼───────────────────┼────────────┼───────────────────┤\n",
       "│ flatten_23          │ (<span style=\"color: #00d7ff; text-decoration-color: #00d7ff\">None</span>, <span style=\"color: #00af00; text-decoration-color: #00af00\">10</span>)        │          <span style=\"color: #00af00; text-decoration-color: #00af00\">0</span> │ emb_day_of_week[<span style=\"color: #00af00; text-decoration-color: #00af00\">…</span> │\n",
       "│ (<span style=\"color: #0087ff; text-decoration-color: #0087ff\">Flatten</span>)           │                   │            │                   │\n",
       "├─────────────────────┼───────────────────┼────────────┼───────────────────┤\n",
       "│ flatten_24          │ (<span style=\"color: #00d7ff; text-decoration-color: #00d7ff\">None</span>, <span style=\"color: #00af00; text-decoration-color: #00af00\">20</span>)        │          <span style=\"color: #00af00; text-decoration-color: #00af00\">0</span> │ emb_month[<span style=\"color: #00af00; text-decoration-color: #00af00\">0</span>][<span style=\"color: #00af00; text-decoration-color: #00af00\">0</span>]   │\n",
       "│ (<span style=\"color: #0087ff; text-decoration-color: #0087ff\">Flatten</span>)           │                   │            │                   │\n",
       "├─────────────────────┼───────────────────┼────────────┼───────────────────┤\n",
       "│ numeric_inputs      │ (<span style=\"color: #00d7ff; text-decoration-color: #00d7ff\">None</span>, <span style=\"color: #00af00; text-decoration-color: #00af00\">9</span>)         │          <span style=\"color: #00af00; text-decoration-color: #00af00\">0</span> │ -                 │\n",
       "│ (<span style=\"color: #0087ff; text-decoration-color: #0087ff\">InputLayer</span>)        │                   │            │                   │\n",
       "├─────────────────────┼───────────────────┼────────────┼───────────────────┤\n",
       "│ concatenate_4       │ (<span style=\"color: #00d7ff; text-decoration-color: #00d7ff\">None</span>, <span style=\"color: #00af00; text-decoration-color: #00af00\">109</span>)       │          <span style=\"color: #00af00; text-decoration-color: #00af00\">0</span> │ flatten_20[<span style=\"color: #00af00; text-decoration-color: #00af00\">0</span>][<span style=\"color: #00af00; text-decoration-color: #00af00\">0</span>], │\n",
       "│ (<span style=\"color: #0087ff; text-decoration-color: #0087ff\">Concatenate</span>)       │                   │            │ flatten_21[<span style=\"color: #00af00; text-decoration-color: #00af00\">0</span>][<span style=\"color: #00af00; text-decoration-color: #00af00\">0</span>], │\n",
       "│                     │                   │            │ flatten_22[<span style=\"color: #00af00; text-decoration-color: #00af00\">0</span>][<span style=\"color: #00af00; text-decoration-color: #00af00\">0</span>], │\n",
       "│                     │                   │            │ flatten_23[<span style=\"color: #00af00; text-decoration-color: #00af00\">0</span>][<span style=\"color: #00af00; text-decoration-color: #00af00\">0</span>], │\n",
       "│                     │                   │            │ flatten_24[<span style=\"color: #00af00; text-decoration-color: #00af00\">0</span>][<span style=\"color: #00af00; text-decoration-color: #00af00\">0</span>], │\n",
       "│                     │                   │            │ numeric_inputs[<span style=\"color: #00af00; text-decoration-color: #00af00\">0</span>… │\n",
       "├─────────────────────┼───────────────────┼────────────┼───────────────────┤\n",
       "│ dense_7 (<span style=\"color: #0087ff; text-decoration-color: #0087ff\">Dense</span>)     │ (<span style=\"color: #00d7ff; text-decoration-color: #00d7ff\">None</span>, <span style=\"color: #00af00; text-decoration-color: #00af00\">192</span>)       │     <span style=\"color: #00af00; text-decoration-color: #00af00\">21,120</span> │ concatenate_4[<span style=\"color: #00af00; text-decoration-color: #00af00\">0</span>]… │\n",
       "├─────────────────────┼───────────────────┼────────────┼───────────────────┤\n",
       "│ dense_8 (<span style=\"color: #0087ff; text-decoration-color: #0087ff\">Dense</span>)     │ (<span style=\"color: #00d7ff; text-decoration-color: #00d7ff\">None</span>, <span style=\"color: #00af00; text-decoration-color: #00af00\">32</span>)        │      <span style=\"color: #00af00; text-decoration-color: #00af00\">6,176</span> │ dense_7[<span style=\"color: #00af00; text-decoration-color: #00af00\">0</span>][<span style=\"color: #00af00; text-decoration-color: #00af00\">0</span>]     │\n",
       "├─────────────────────┼───────────────────┼────────────┼───────────────────┤\n",
       "│ dense_9 (<span style=\"color: #0087ff; text-decoration-color: #0087ff\">Dense</span>)     │ (<span style=\"color: #00d7ff; text-decoration-color: #00d7ff\">None</span>, <span style=\"color: #00af00; text-decoration-color: #00af00\">1</span>)         │         <span style=\"color: #00af00; text-decoration-color: #00af00\">33</span> │ dense_8[<span style=\"color: #00af00; text-decoration-color: #00af00\">0</span>][<span style=\"color: #00af00; text-decoration-color: #00af00\">0</span>]     │\n",
       "└─────────────────────┴───────────────────┴────────────┴───────────────────┘\n",
       "</pre>\n"
      ],
      "text/plain": [
       "┏━━━━━━━━━━━━━━━━━━━━━┳━━━━━━━━━━━━━━━━━━━┳━━━━━━━━━━━━┳━━━━━━━━━━━━━━━━━━━┓\n",
       "┃\u001b[1m \u001b[0m\u001b[1mLayer (type)       \u001b[0m\u001b[1m \u001b[0m┃\u001b[1m \u001b[0m\u001b[1mOutput Shape     \u001b[0m\u001b[1m \u001b[0m┃\u001b[1m \u001b[0m\u001b[1m   Param #\u001b[0m\u001b[1m \u001b[0m┃\u001b[1m \u001b[0m\u001b[1mConnected to     \u001b[0m\u001b[1m \u001b[0m┃\n",
       "┡━━━━━━━━━━━━━━━━━━━━━╇━━━━━━━━━━━━━━━━━━━╇━━━━━━━━━━━━╇━━━━━━━━━━━━━━━━━━━┩\n",
       "│ PULocationID        │ (\u001b[38;5;45mNone\u001b[0m, \u001b[38;5;34m1\u001b[0m)         │          \u001b[38;5;34m0\u001b[0m │ -                 │\n",
       "│ (\u001b[38;5;33mInputLayer\u001b[0m)        │                   │            │                   │\n",
       "├─────────────────────┼───────────────────┼────────────┼───────────────────┤\n",
       "│ weathercode         │ (\u001b[38;5;45mNone\u001b[0m, \u001b[38;5;34m1\u001b[0m)         │          \u001b[38;5;34m0\u001b[0m │ -                 │\n",
       "│ (\u001b[38;5;33mInputLayer\u001b[0m)        │                   │            │                   │\n",
       "├─────────────────────┼───────────────────┼────────────┼───────────────────┤\n",
       "│ hour (\u001b[38;5;33mInputLayer\u001b[0m)   │ (\u001b[38;5;45mNone\u001b[0m, \u001b[38;5;34m1\u001b[0m)         │          \u001b[38;5;34m0\u001b[0m │ -                 │\n",
       "├─────────────────────┼───────────────────┼────────────┼───────────────────┤\n",
       "│ day_of_week         │ (\u001b[38;5;45mNone\u001b[0m, \u001b[38;5;34m1\u001b[0m)         │          \u001b[38;5;34m0\u001b[0m │ -                 │\n",
       "│ (\u001b[38;5;33mInputLayer\u001b[0m)        │                   │            │                   │\n",
       "├─────────────────────┼───────────────────┼────────────┼───────────────────┤\n",
       "│ month (\u001b[38;5;33mInputLayer\u001b[0m)  │ (\u001b[38;5;45mNone\u001b[0m, \u001b[38;5;34m1\u001b[0m)         │          \u001b[38;5;34m0\u001b[0m │ -                 │\n",
       "├─────────────────────┼───────────────────┼────────────┼───────────────────┤\n",
       "│ emb_PULocationID    │ (\u001b[38;5;45mNone\u001b[0m, \u001b[38;5;34m1\u001b[0m, \u001b[38;5;34m48\u001b[0m)     │     \u001b[38;5;34m12,576\u001b[0m │ PULocationID[\u001b[38;5;34m0\u001b[0m][\u001b[38;5;34m…\u001b[0m │\n",
       "│ (\u001b[38;5;33mEmbedding\u001b[0m)         │                   │            │                   │\n",
       "├─────────────────────┼───────────────────┼────────────┼───────────────────┤\n",
       "│ emb_weathercode     │ (\u001b[38;5;45mNone\u001b[0m, \u001b[38;5;34m1\u001b[0m, \u001b[38;5;34m2\u001b[0m)      │         \u001b[38;5;34m28\u001b[0m │ weathercode[\u001b[38;5;34m0\u001b[0m][\u001b[38;5;34m0\u001b[0m] │\n",
       "│ (\u001b[38;5;33mEmbedding\u001b[0m)         │                   │            │                   │\n",
       "├─────────────────────┼───────────────────┼────────────┼───────────────────┤\n",
       "│ emb_hour            │ (\u001b[38;5;45mNone\u001b[0m, \u001b[38;5;34m1\u001b[0m, \u001b[38;5;34m20\u001b[0m)     │        \u001b[38;5;34m500\u001b[0m │ hour[\u001b[38;5;34m0\u001b[0m][\u001b[38;5;34m0\u001b[0m]        │\n",
       "│ (\u001b[38;5;33mEmbedding\u001b[0m)         │                   │            │                   │\n",
       "├─────────────────────┼───────────────────┼────────────┼───────────────────┤\n",
       "│ emb_day_of_week     │ (\u001b[38;5;45mNone\u001b[0m, \u001b[38;5;34m1\u001b[0m, \u001b[38;5;34m10\u001b[0m)     │         \u001b[38;5;34m80\u001b[0m │ day_of_week[\u001b[38;5;34m0\u001b[0m][\u001b[38;5;34m0\u001b[0m] │\n",
       "│ (\u001b[38;5;33mEmbedding\u001b[0m)         │                   │            │                   │\n",
       "├─────────────────────┼───────────────────┼────────────┼───────────────────┤\n",
       "│ emb_month           │ (\u001b[38;5;45mNone\u001b[0m, \u001b[38;5;34m1\u001b[0m, \u001b[38;5;34m20\u001b[0m)     │         \u001b[38;5;34m80\u001b[0m │ month[\u001b[38;5;34m0\u001b[0m][\u001b[38;5;34m0\u001b[0m]       │\n",
       "│ (\u001b[38;5;33mEmbedding\u001b[0m)         │                   │            │                   │\n",
       "├─────────────────────┼───────────────────┼────────────┼───────────────────┤\n",
       "│ flatten_20          │ (\u001b[38;5;45mNone\u001b[0m, \u001b[38;5;34m48\u001b[0m)        │          \u001b[38;5;34m0\u001b[0m │ emb_PULocationID… │\n",
       "│ (\u001b[38;5;33mFlatten\u001b[0m)           │                   │            │                   │\n",
       "├─────────────────────┼───────────────────┼────────────┼───────────────────┤\n",
       "│ flatten_21          │ (\u001b[38;5;45mNone\u001b[0m, \u001b[38;5;34m2\u001b[0m)         │          \u001b[38;5;34m0\u001b[0m │ emb_weathercode[\u001b[38;5;34m…\u001b[0m │\n",
       "│ (\u001b[38;5;33mFlatten\u001b[0m)           │                   │            │                   │\n",
       "├─────────────────────┼───────────────────┼────────────┼───────────────────┤\n",
       "│ flatten_22          │ (\u001b[38;5;45mNone\u001b[0m, \u001b[38;5;34m20\u001b[0m)        │          \u001b[38;5;34m0\u001b[0m │ emb_hour[\u001b[38;5;34m0\u001b[0m][\u001b[38;5;34m0\u001b[0m]    │\n",
       "│ (\u001b[38;5;33mFlatten\u001b[0m)           │                   │            │                   │\n",
       "├─────────────────────┼───────────────────┼────────────┼───────────────────┤\n",
       "│ flatten_23          │ (\u001b[38;5;45mNone\u001b[0m, \u001b[38;5;34m10\u001b[0m)        │          \u001b[38;5;34m0\u001b[0m │ emb_day_of_week[\u001b[38;5;34m…\u001b[0m │\n",
       "│ (\u001b[38;5;33mFlatten\u001b[0m)           │                   │            │                   │\n",
       "├─────────────────────┼───────────────────┼────────────┼───────────────────┤\n",
       "│ flatten_24          │ (\u001b[38;5;45mNone\u001b[0m, \u001b[38;5;34m20\u001b[0m)        │          \u001b[38;5;34m0\u001b[0m │ emb_month[\u001b[38;5;34m0\u001b[0m][\u001b[38;5;34m0\u001b[0m]   │\n",
       "│ (\u001b[38;5;33mFlatten\u001b[0m)           │                   │            │                   │\n",
       "├─────────────────────┼───────────────────┼────────────┼───────────────────┤\n",
       "│ numeric_inputs      │ (\u001b[38;5;45mNone\u001b[0m, \u001b[38;5;34m9\u001b[0m)         │          \u001b[38;5;34m0\u001b[0m │ -                 │\n",
       "│ (\u001b[38;5;33mInputLayer\u001b[0m)        │                   │            │                   │\n",
       "├─────────────────────┼───────────────────┼────────────┼───────────────────┤\n",
       "│ concatenate_4       │ (\u001b[38;5;45mNone\u001b[0m, \u001b[38;5;34m109\u001b[0m)       │          \u001b[38;5;34m0\u001b[0m │ flatten_20[\u001b[38;5;34m0\u001b[0m][\u001b[38;5;34m0\u001b[0m], │\n",
       "│ (\u001b[38;5;33mConcatenate\u001b[0m)       │                   │            │ flatten_21[\u001b[38;5;34m0\u001b[0m][\u001b[38;5;34m0\u001b[0m], │\n",
       "│                     │                   │            │ flatten_22[\u001b[38;5;34m0\u001b[0m][\u001b[38;5;34m0\u001b[0m], │\n",
       "│                     │                   │            │ flatten_23[\u001b[38;5;34m0\u001b[0m][\u001b[38;5;34m0\u001b[0m], │\n",
       "│                     │                   │            │ flatten_24[\u001b[38;5;34m0\u001b[0m][\u001b[38;5;34m0\u001b[0m], │\n",
       "│                     │                   │            │ numeric_inputs[\u001b[38;5;34m0\u001b[0m… │\n",
       "├─────────────────────┼───────────────────┼────────────┼───────────────────┤\n",
       "│ dense_7 (\u001b[38;5;33mDense\u001b[0m)     │ (\u001b[38;5;45mNone\u001b[0m, \u001b[38;5;34m192\u001b[0m)       │     \u001b[38;5;34m21,120\u001b[0m │ concatenate_4[\u001b[38;5;34m0\u001b[0m]… │\n",
       "├─────────────────────┼───────────────────┼────────────┼───────────────────┤\n",
       "│ dense_8 (\u001b[38;5;33mDense\u001b[0m)     │ (\u001b[38;5;45mNone\u001b[0m, \u001b[38;5;34m32\u001b[0m)        │      \u001b[38;5;34m6,176\u001b[0m │ dense_7[\u001b[38;5;34m0\u001b[0m][\u001b[38;5;34m0\u001b[0m]     │\n",
       "├─────────────────────┼───────────────────┼────────────┼───────────────────┤\n",
       "│ dense_9 (\u001b[38;5;33mDense\u001b[0m)     │ (\u001b[38;5;45mNone\u001b[0m, \u001b[38;5;34m1\u001b[0m)         │         \u001b[38;5;34m33\u001b[0m │ dense_8[\u001b[38;5;34m0\u001b[0m][\u001b[38;5;34m0\u001b[0m]     │\n",
       "└─────────────────────┴───────────────────┴────────────┴───────────────────┘\n"
      ]
     },
     "metadata": {},
     "output_type": "display_data"
    },
    {
     "data": {
      "text/html": [
       "<pre style=\"white-space:pre;overflow-x:auto;line-height:normal;font-family:Menlo,'DejaVu Sans Mono',consolas,'Courier New',monospace\"><span style=\"font-weight: bold\"> Total params: </span><span style=\"color: #00af00; text-decoration-color: #00af00\">40,593</span> (158.57 KB)\n",
       "</pre>\n"
      ],
      "text/plain": [
       "\u001b[1m Total params: \u001b[0m\u001b[38;5;34m40,593\u001b[0m (158.57 KB)\n"
      ]
     },
     "metadata": {},
     "output_type": "display_data"
    },
    {
     "data": {
      "text/html": [
       "<pre style=\"white-space:pre;overflow-x:auto;line-height:normal;font-family:Menlo,'DejaVu Sans Mono',consolas,'Courier New',monospace\"><span style=\"font-weight: bold\"> Trainable params: </span><span style=\"color: #00af00; text-decoration-color: #00af00\">40,593</span> (158.57 KB)\n",
       "</pre>\n"
      ],
      "text/plain": [
       "\u001b[1m Trainable params: \u001b[0m\u001b[38;5;34m40,593\u001b[0m (158.57 KB)\n"
      ]
     },
     "metadata": {},
     "output_type": "display_data"
    },
    {
     "data": {
      "text/html": [
       "<pre style=\"white-space:pre;overflow-x:auto;line-height:normal;font-family:Menlo,'DejaVu Sans Mono',consolas,'Courier New',monospace\"><span style=\"font-weight: bold\"> Non-trainable params: </span><span style=\"color: #00af00; text-decoration-color: #00af00\">0</span> (0.00 B)\n",
       "</pre>\n"
      ],
      "text/plain": [
       "\u001b[1m Non-trainable params: \u001b[0m\u001b[38;5;34m0\u001b[0m (0.00 B)\n"
      ]
     },
     "metadata": {},
     "output_type": "display_data"
    }
   ],
   "source": [
    "final_model = build_final_model(best_hps)\n",
    "final_model.summary()"
   ]
  },
  {
   "cell_type": "code",
   "execution_count": 95,
   "id": "705f8c71",
   "metadata": {},
   "outputs": [
    {
     "name": "stdout",
     "output_type": "stream",
     "text": [
      "Epoch 1/10\n",
      "\u001b[1m304/315\u001b[0m \u001b[32m━━━━━━━━━━━━━━━━━━━\u001b[0m\u001b[37m━\u001b[0m \u001b[1m0s\u001b[0m 5ms/step - loss: 1927.2211 - mae: 17.0928"
     ]
    },
    {
     "name": "stderr",
     "output_type": "stream",
     "text": [
      "2025-08-20 23:40:22.653574: I external/local_xla/xla/service/gpu/autotuning/dot_search_space.cc:208] All configs were filtered out because none of them sufficiently match the hints. Maybe the hints set does not contain a good representative set of valid configs? Working around this by using the full hints set instead.\n",
      "2025-08-20 23:40:22.653655: I external/local_xla/xla/service/gpu/autotuning/dot_search_space.cc:208] All configs were filtered out because none of them sufficiently match the hints. Maybe the hints set does not contain a good representative set of valid configs? Working around this by using the full hints set instead.\n",
      "2025-08-20 23:40:22.653716: I external/local_xla/xla/service/gpu/autotuning/dot_search_space.cc:208] All configs were filtered out because none of them sufficiently match the hints. Maybe the hints set does not contain a good representative set of valid configs? Working around this by using the full hints set instead.\n",
      "2025-08-20 23:40:23.315842: I external/local_xla/xla/stream_executor/cuda/subprocess_compilation.cc:346] ptxas warning : Registers are spilled to local memory in function 'gemm_fusion_dot_642', 12 bytes spill stores, 12 bytes spill loads\n",
      "\n",
      "2025-08-20 23:40:23.402912: I external/local_xla/xla/stream_executor/cuda/subprocess_compilation.cc:346] ptxas warning : Registers are spilled to local memory in function 'gemm_fusion_dot_897', 8 bytes spill stores, 8 bytes spill loads\n",
      "\n",
      "2025-08-20 23:40:23.691392: I external/local_xla/xla/stream_executor/cuda/subprocess_compilation.cc:346] ptxas warning : Registers are spilled to local memory in function 'gemm_fusion_dot_673', 8 bytes spill stores, 8 bytes spill loads\n",
      "\n",
      "2025-08-20 23:40:23.852469: I external/local_xla/xla/stream_executor/cuda/subprocess_compilation.cc:346] ptxas warning : Registers are spilled to local memory in function 'gemm_fusion_dot_376', 8 bytes spill stores, 8 bytes spill loads\n",
      "\n",
      "2025-08-20 23:40:23.891548: I external/local_xla/xla/stream_executor/cuda/subprocess_compilation.cc:346] ptxas warning : Registers are spilled to local memory in function 'gemm_fusion_dot_642', 336 bytes spill stores, 336 bytes spill loads\n",
      "\n",
      "2025-08-20 23:40:23.955141: I external/local_xla/xla/stream_executor/cuda/subprocess_compilation.cc:346] ptxas warning : Registers are spilled to local memory in function 'gemm_fusion_dot_642', 12 bytes spill stores, 12 bytes spill loads\n",
      "\n"
     ]
    },
    {
     "name": "stdout",
     "output_type": "stream",
     "text": [
      "\u001b[1m315/315\u001b[0m \u001b[32m━━━━━━━━━━━━━━━━━━━━\u001b[0m\u001b[37m\u001b[0m \u001b[1m10s\u001b[0m 16ms/step - loss: 780.5182 - mae: 10.7267\n",
      "Epoch 2/10\n",
      "\u001b[1m315/315\u001b[0m \u001b[32m━━━━━━━━━━━━━━━━━━━━\u001b[0m\u001b[37m\u001b[0m \u001b[1m1s\u001b[0m 4ms/step - loss: 257.9536 - mae: 6.8491\n",
      "Epoch 3/10\n",
      "\u001b[1m315/315\u001b[0m \u001b[32m━━━━━━━━━━━━━━━━━━━━\u001b[0m\u001b[37m\u001b[0m \u001b[1m2s\u001b[0m 5ms/step - loss: 225.8413 - mae: 6.4664\n",
      "Epoch 4/10\n",
      "\u001b[1m315/315\u001b[0m \u001b[32m━━━━━━━━━━━━━━━━━━━━\u001b[0m\u001b[37m\u001b[0m \u001b[1m2s\u001b[0m 5ms/step - loss: 207.1425 - mae: 6.2114\n",
      "Epoch 5/10\n",
      "\u001b[1m315/315\u001b[0m \u001b[32m━━━━━━━━━━━━━━━━━━━━\u001b[0m\u001b[37m\u001b[0m \u001b[1m2s\u001b[0m 5ms/step - loss: 194.6640 - mae: 6.0306\n",
      "Epoch 6/10\n",
      "\u001b[1m315/315\u001b[0m \u001b[32m━━━━━━━━━━━━━━━━━━━━\u001b[0m\u001b[37m\u001b[0m \u001b[1m2s\u001b[0m 5ms/step - loss: 187.0358 - mae: 5.9393\n",
      "Epoch 7/10\n",
      "\u001b[1m315/315\u001b[0m \u001b[32m━━━━━━━━━━━━━━━━━━━━\u001b[0m\u001b[37m\u001b[0m \u001b[1m2s\u001b[0m 6ms/step - loss: 180.4077 - mae: 5.8509\n",
      "Epoch 8/10\n",
      "\u001b[1m315/315\u001b[0m \u001b[32m━━━━━━━━━━━━━━━━━━━━\u001b[0m\u001b[37m\u001b[0m \u001b[1m2s\u001b[0m 5ms/step - loss: 173.0286 - mae: 5.7414\n",
      "Epoch 9/10\n",
      "\u001b[1m315/315\u001b[0m \u001b[32m━━━━━━━━━━━━━━━━━━━━\u001b[0m\u001b[37m\u001b[0m \u001b[1m2s\u001b[0m 5ms/step - loss: 166.3683 - mae: 5.6458\n",
      "Epoch 10/10\n",
      "\u001b[1m315/315\u001b[0m \u001b[32m━━━━━━━━━━━━━━━━━━━━\u001b[0m\u001b[37m\u001b[0m \u001b[1m2s\u001b[0m 5ms/step - loss: 162.7699 - mae: 5.5987\n"
     ]
    },
    {
     "data": {
      "text/plain": [
       "<keras.src.callbacks.history.History at 0x79bd3945ba30>"
      ]
     },
     "execution_count": 95,
     "metadata": {},
     "output_type": "execute_result"
    }
   ],
   "source": [
    "final_model.fit(full_inputs, full_y.values, epochs = 10, batch_size = 1024)"
   ]
  },
  {
   "cell_type": "markdown",
   "id": "141f76ce",
   "metadata": {},
   "source": [
    "### Let us save the final model"
   ]
  },
  {
   "cell_type": "code",
   "execution_count": 101,
   "id": "0e8d20df",
   "metadata": {},
   "outputs": [],
   "source": [
    "import pickle\n",
    "import os\n",
    "\n",
    "os.makedirs('models', exist_ok=True)\n",
    "## Save the encoders and scaler\n",
    "with open('models/label_encoder.pkl', 'wb') as file:\n",
    "    pickle.dump(le, file)\n",
    "    \n",
    "with open('models/standard_scaler.pkl', 'wb') as file:\n",
    "    pickle.dump(scaler, file)\n",
    "    \n",
    "## Save the model\n",
    "final_model.save(\"models/taxi_demand_forecasting_model.keras\")"
   ]
  }
 ],
 "metadata": {
  "kernelspec": {
   "display_name": "Python 3",
   "language": "python",
   "name": "python3"
  },
  "language_info": {
   "codemirror_mode": {
    "name": "ipython",
    "version": 3
   },
   "file_extension": ".py",
   "mimetype": "text/x-python",
   "name": "python",
   "nbconvert_exporter": "python",
   "pygments_lexer": "ipython3",
   "version": "3.10.18"
  }
 },
 "nbformat": 4,
 "nbformat_minor": 5
}
